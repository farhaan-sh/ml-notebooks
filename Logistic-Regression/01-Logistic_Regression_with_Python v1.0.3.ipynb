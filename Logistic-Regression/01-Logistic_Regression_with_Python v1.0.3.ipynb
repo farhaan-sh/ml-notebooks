{
  "cells": [
    {
      "cell_type": "markdown",
      "metadata": {
        "id": "view-in-github",
        "colab_type": "text"
      },
      "source": [
        "<a href=\"https://colab.research.google.com/github/shfarhaan/ml-notebooks/blob/main/Logistic-Regression%5C01_Logistic_Regression_with_Python%20v1.0.3.ipynb\" target=\"_parent\"><img src=\"https://colab.research.google.com/assets/colab-badge.svg\" alt=\"Open In Colab\"/></a>"
      ]
    },
    {
      "cell_type": "markdown",
      "source": [
        "\n",
        "# Logistic Regression with Python\n",
        "\n",
        "For this lecture we will be working with the [Titanic Data Set from Kaggle](https://www.kaggle.com/c/titanic). This is a very famous data set and very often is a student's first step in machine learning!\n",
        "\n",
        "We'll be trying to predict a classification- survival or deceased.\n",
        "Let's begin our understanding of implementing Logistic Regression in Python for classification.\n",
        "\n",
        "We'll use a \"semi-cleaned\" version of the titanic data set, if you use the data set hosted directly on Kaggle, you may need to do some additional cleaning.\n",
        "\n",
        "## Import Libraries\n",
        "Let's import some libraries to get started!"
      ],
      "metadata": {
        "collapsed": false,
        "id": "VqDfPIiDsfwD"
      }
    },
    {
      "cell_type": "code",
      "execution_count": null,
      "metadata": {
        "collapsed": true,
        "id": "AG4VURuosfwX"
      },
      "outputs": [],
      "source": [
        "import pandas as pd\n",
        "import numpy as np\n",
        "import matplotlib.pyplot as plt\n",
        "import seaborn as sns\n",
        "%matplotlib inline"
      ]
    },
    {
      "cell_type": "markdown",
      "metadata": {
        "id": "GrhTT2uCsfwc"
      },
      "source": [
        "## The Data\n",
        "\n",
        "Let's start by reading in the titanic_train.csv file into a pandas dataframe."
      ]
    },
    {
      "cell_type": "code",
      "execution_count": null,
      "metadata": {
        "collapsed": true,
        "id": "LC8pXPinsfwd"
      },
      "outputs": [],
      "source": [
        "train = pd.read_csv('titanic_train.csv')"
      ]
    },
    {
      "cell_type": "code",
      "execution_count": null,
      "metadata": {
        "colab": {
          "base_uri": "https://localhost:8080/",
          "height": 327
        },
        "id": "X4HqTzMOsfwf",
        "outputId": "d17b7aa4-7d66-4707-a518-8d4d3f22055b"
      },
      "outputs": [
        {
          "output_type": "execute_result",
          "data": {
            "text/plain": [
              "   PassengerId  Survived  Pclass  \\\n",
              "0            1         0       3   \n",
              "1            2         1       1   \n",
              "2            3         1       3   \n",
              "3            4         1       1   \n",
              "4            5         0       3   \n",
              "\n",
              "                                                Name     Sex   Age  SibSp  \\\n",
              "0                            Braund, Mr. Owen Harris    male  22.0      1   \n",
              "1  Cumings, Mrs. John Bradley (Florence Briggs Th...  female  38.0      1   \n",
              "2                             Heikkinen, Miss. Laina  female  26.0      0   \n",
              "3       Futrelle, Mrs. Jacques Heath (Lily May Peel)  female  35.0      1   \n",
              "4                           Allen, Mr. William Henry    male  35.0      0   \n",
              "\n",
              "   Parch            Ticket     Fare Cabin Embarked  \n",
              "0      0         A/5 21171   7.2500   NaN        S  \n",
              "1      0          PC 17599  71.2833   C85        C  \n",
              "2      0  STON/O2. 3101282   7.9250   NaN        S  \n",
              "3      0            113803  53.1000  C123        S  \n",
              "4      0            373450   8.0500   NaN        S  "
            ],
            "text/html": [
              "\n",
              "  <div id=\"df-452677d9-55c7-4c7d-9725-f3bbc8696105\" class=\"colab-df-container\">\n",
              "    <div>\n",
              "<style scoped>\n",
              "    .dataframe tbody tr th:only-of-type {\n",
              "        vertical-align: middle;\n",
              "    }\n",
              "\n",
              "    .dataframe tbody tr th {\n",
              "        vertical-align: top;\n",
              "    }\n",
              "\n",
              "    .dataframe thead th {\n",
              "        text-align: right;\n",
              "    }\n",
              "</style>\n",
              "<table border=\"1\" class=\"dataframe\">\n",
              "  <thead>\n",
              "    <tr style=\"text-align: right;\">\n",
              "      <th></th>\n",
              "      <th>PassengerId</th>\n",
              "      <th>Survived</th>\n",
              "      <th>Pclass</th>\n",
              "      <th>Name</th>\n",
              "      <th>Sex</th>\n",
              "      <th>Age</th>\n",
              "      <th>SibSp</th>\n",
              "      <th>Parch</th>\n",
              "      <th>Ticket</th>\n",
              "      <th>Fare</th>\n",
              "      <th>Cabin</th>\n",
              "      <th>Embarked</th>\n",
              "    </tr>\n",
              "  </thead>\n",
              "  <tbody>\n",
              "    <tr>\n",
              "      <th>0</th>\n",
              "      <td>1</td>\n",
              "      <td>0</td>\n",
              "      <td>3</td>\n",
              "      <td>Braund, Mr. Owen Harris</td>\n",
              "      <td>male</td>\n",
              "      <td>22.0</td>\n",
              "      <td>1</td>\n",
              "      <td>0</td>\n",
              "      <td>A/5 21171</td>\n",
              "      <td>7.2500</td>\n",
              "      <td>NaN</td>\n",
              "      <td>S</td>\n",
              "    </tr>\n",
              "    <tr>\n",
              "      <th>1</th>\n",
              "      <td>2</td>\n",
              "      <td>1</td>\n",
              "      <td>1</td>\n",
              "      <td>Cumings, Mrs. John Bradley (Florence Briggs Th...</td>\n",
              "      <td>female</td>\n",
              "      <td>38.0</td>\n",
              "      <td>1</td>\n",
              "      <td>0</td>\n",
              "      <td>PC 17599</td>\n",
              "      <td>71.2833</td>\n",
              "      <td>C85</td>\n",
              "      <td>C</td>\n",
              "    </tr>\n",
              "    <tr>\n",
              "      <th>2</th>\n",
              "      <td>3</td>\n",
              "      <td>1</td>\n",
              "      <td>3</td>\n",
              "      <td>Heikkinen, Miss. Laina</td>\n",
              "      <td>female</td>\n",
              "      <td>26.0</td>\n",
              "      <td>0</td>\n",
              "      <td>0</td>\n",
              "      <td>STON/O2. 3101282</td>\n",
              "      <td>7.9250</td>\n",
              "      <td>NaN</td>\n",
              "      <td>S</td>\n",
              "    </tr>\n",
              "    <tr>\n",
              "      <th>3</th>\n",
              "      <td>4</td>\n",
              "      <td>1</td>\n",
              "      <td>1</td>\n",
              "      <td>Futrelle, Mrs. Jacques Heath (Lily May Peel)</td>\n",
              "      <td>female</td>\n",
              "      <td>35.0</td>\n",
              "      <td>1</td>\n",
              "      <td>0</td>\n",
              "      <td>113803</td>\n",
              "      <td>53.1000</td>\n",
              "      <td>C123</td>\n",
              "      <td>S</td>\n",
              "    </tr>\n",
              "    <tr>\n",
              "      <th>4</th>\n",
              "      <td>5</td>\n",
              "      <td>0</td>\n",
              "      <td>3</td>\n",
              "      <td>Allen, Mr. William Henry</td>\n",
              "      <td>male</td>\n",
              "      <td>35.0</td>\n",
              "      <td>0</td>\n",
              "      <td>0</td>\n",
              "      <td>373450</td>\n",
              "      <td>8.0500</td>\n",
              "      <td>NaN</td>\n",
              "      <td>S</td>\n",
              "    </tr>\n",
              "  </tbody>\n",
              "</table>\n",
              "</div>\n",
              "    <div class=\"colab-df-buttons\">\n",
              "\n",
              "  <div class=\"colab-df-container\">\n",
              "    <button class=\"colab-df-convert\" onclick=\"convertToInteractive('df-452677d9-55c7-4c7d-9725-f3bbc8696105')\"\n",
              "            title=\"Convert this dataframe to an interactive table.\"\n",
              "            style=\"display:none;\">\n",
              "\n",
              "  <svg xmlns=\"http://www.w3.org/2000/svg\" height=\"24px\" viewBox=\"0 -960 960 960\">\n",
              "    <path d=\"M120-120v-720h720v720H120Zm60-500h600v-160H180v160Zm220 220h160v-160H400v160Zm0 220h160v-160H400v160ZM180-400h160v-160H180v160Zm440 0h160v-160H620v160ZM180-180h160v-160H180v160Zm440 0h160v-160H620v160Z\"/>\n",
              "  </svg>\n",
              "    </button>\n",
              "\n",
              "  <style>\n",
              "    .colab-df-container {\n",
              "      display:flex;\n",
              "      gap: 12px;\n",
              "    }\n",
              "\n",
              "    .colab-df-convert {\n",
              "      background-color: #E8F0FE;\n",
              "      border: none;\n",
              "      border-radius: 50%;\n",
              "      cursor: pointer;\n",
              "      display: none;\n",
              "      fill: #1967D2;\n",
              "      height: 32px;\n",
              "      padding: 0 0 0 0;\n",
              "      width: 32px;\n",
              "    }\n",
              "\n",
              "    .colab-df-convert:hover {\n",
              "      background-color: #E2EBFA;\n",
              "      box-shadow: 0px 1px 2px rgba(60, 64, 67, 0.3), 0px 1px 3px 1px rgba(60, 64, 67, 0.15);\n",
              "      fill: #174EA6;\n",
              "    }\n",
              "\n",
              "    .colab-df-buttons div {\n",
              "      margin-bottom: 4px;\n",
              "    }\n",
              "\n",
              "    [theme=dark] .colab-df-convert {\n",
              "      background-color: #3B4455;\n",
              "      fill: #D2E3FC;\n",
              "    }\n",
              "\n",
              "    [theme=dark] .colab-df-convert:hover {\n",
              "      background-color: #434B5C;\n",
              "      box-shadow: 0px 1px 3px 1px rgba(0, 0, 0, 0.15);\n",
              "      filter: drop-shadow(0px 1px 2px rgba(0, 0, 0, 0.3));\n",
              "      fill: #FFFFFF;\n",
              "    }\n",
              "  </style>\n",
              "\n",
              "    <script>\n",
              "      const buttonEl =\n",
              "        document.querySelector('#df-452677d9-55c7-4c7d-9725-f3bbc8696105 button.colab-df-convert');\n",
              "      buttonEl.style.display =\n",
              "        google.colab.kernel.accessAllowed ? 'block' : 'none';\n",
              "\n",
              "      async function convertToInteractive(key) {\n",
              "        const element = document.querySelector('#df-452677d9-55c7-4c7d-9725-f3bbc8696105');\n",
              "        const dataTable =\n",
              "          await google.colab.kernel.invokeFunction('convertToInteractive',\n",
              "                                                    [key], {});\n",
              "        if (!dataTable) return;\n",
              "\n",
              "        const docLinkHtml = 'Like what you see? Visit the ' +\n",
              "          '<a target=\"_blank\" href=https://colab.research.google.com/notebooks/data_table.ipynb>data table notebook</a>'\n",
              "          + ' to learn more about interactive tables.';\n",
              "        element.innerHTML = '';\n",
              "        dataTable['output_type'] = 'display_data';\n",
              "        await google.colab.output.renderOutput(dataTable, element);\n",
              "        const docLink = document.createElement('div');\n",
              "        docLink.innerHTML = docLinkHtml;\n",
              "        element.appendChild(docLink);\n",
              "      }\n",
              "    </script>\n",
              "  </div>\n",
              "\n",
              "\n",
              "<div id=\"df-e7263c90-6da1-49e5-b409-ea9d62383955\">\n",
              "  <button class=\"colab-df-quickchart\" onclick=\"quickchart('df-e7263c90-6da1-49e5-b409-ea9d62383955')\"\n",
              "            title=\"Suggest charts.\"\n",
              "            style=\"display:none;\">\n",
              "\n",
              "<svg xmlns=\"http://www.w3.org/2000/svg\" height=\"24px\"viewBox=\"0 0 24 24\"\n",
              "     width=\"24px\">\n",
              "    <g>\n",
              "        <path d=\"M19 3H5c-1.1 0-2 .9-2 2v14c0 1.1.9 2 2 2h14c1.1 0 2-.9 2-2V5c0-1.1-.9-2-2-2zM9 17H7v-7h2v7zm4 0h-2V7h2v10zm4 0h-2v-4h2v4z\"/>\n",
              "    </g>\n",
              "</svg>\n",
              "  </button>\n",
              "\n",
              "<style>\n",
              "  .colab-df-quickchart {\n",
              "      --bg-color: #E8F0FE;\n",
              "      --fill-color: #1967D2;\n",
              "      --hover-bg-color: #E2EBFA;\n",
              "      --hover-fill-color: #174EA6;\n",
              "      --disabled-fill-color: #AAA;\n",
              "      --disabled-bg-color: #DDD;\n",
              "  }\n",
              "\n",
              "  [theme=dark] .colab-df-quickchart {\n",
              "      --bg-color: #3B4455;\n",
              "      --fill-color: #D2E3FC;\n",
              "      --hover-bg-color: #434B5C;\n",
              "      --hover-fill-color: #FFFFFF;\n",
              "      --disabled-bg-color: #3B4455;\n",
              "      --disabled-fill-color: #666;\n",
              "  }\n",
              "\n",
              "  .colab-df-quickchart {\n",
              "    background-color: var(--bg-color);\n",
              "    border: none;\n",
              "    border-radius: 50%;\n",
              "    cursor: pointer;\n",
              "    display: none;\n",
              "    fill: var(--fill-color);\n",
              "    height: 32px;\n",
              "    padding: 0;\n",
              "    width: 32px;\n",
              "  }\n",
              "\n",
              "  .colab-df-quickchart:hover {\n",
              "    background-color: var(--hover-bg-color);\n",
              "    box-shadow: 0 1px 2px rgba(60, 64, 67, 0.3), 0 1px 3px 1px rgba(60, 64, 67, 0.15);\n",
              "    fill: var(--button-hover-fill-color);\n",
              "  }\n",
              "\n",
              "  .colab-df-quickchart-complete:disabled,\n",
              "  .colab-df-quickchart-complete:disabled:hover {\n",
              "    background-color: var(--disabled-bg-color);\n",
              "    fill: var(--disabled-fill-color);\n",
              "    box-shadow: none;\n",
              "  }\n",
              "\n",
              "  .colab-df-spinner {\n",
              "    border: 2px solid var(--fill-color);\n",
              "    border-color: transparent;\n",
              "    border-bottom-color: var(--fill-color);\n",
              "    animation:\n",
              "      spin 1s steps(1) infinite;\n",
              "  }\n",
              "\n",
              "  @keyframes spin {\n",
              "    0% {\n",
              "      border-color: transparent;\n",
              "      border-bottom-color: var(--fill-color);\n",
              "      border-left-color: var(--fill-color);\n",
              "    }\n",
              "    20% {\n",
              "      border-color: transparent;\n",
              "      border-left-color: var(--fill-color);\n",
              "      border-top-color: var(--fill-color);\n",
              "    }\n",
              "    30% {\n",
              "      border-color: transparent;\n",
              "      border-left-color: var(--fill-color);\n",
              "      border-top-color: var(--fill-color);\n",
              "      border-right-color: var(--fill-color);\n",
              "    }\n",
              "    40% {\n",
              "      border-color: transparent;\n",
              "      border-right-color: var(--fill-color);\n",
              "      border-top-color: var(--fill-color);\n",
              "    }\n",
              "    60% {\n",
              "      border-color: transparent;\n",
              "      border-right-color: var(--fill-color);\n",
              "    }\n",
              "    80% {\n",
              "      border-color: transparent;\n",
              "      border-right-color: var(--fill-color);\n",
              "      border-bottom-color: var(--fill-color);\n",
              "    }\n",
              "    90% {\n",
              "      border-color: transparent;\n",
              "      border-bottom-color: var(--fill-color);\n",
              "    }\n",
              "  }\n",
              "</style>\n",
              "\n",
              "  <script>\n",
              "    async function quickchart(key) {\n",
              "      const quickchartButtonEl =\n",
              "        document.querySelector('#' + key + ' button');\n",
              "      quickchartButtonEl.disabled = true;  // To prevent multiple clicks.\n",
              "      quickchartButtonEl.classList.add('colab-df-spinner');\n",
              "      try {\n",
              "        const charts = await google.colab.kernel.invokeFunction(\n",
              "            'suggestCharts', [key], {});\n",
              "      } catch (error) {\n",
              "        console.error('Error during call to suggestCharts:', error);\n",
              "      }\n",
              "      quickchartButtonEl.classList.remove('colab-df-spinner');\n",
              "      quickchartButtonEl.classList.add('colab-df-quickchart-complete');\n",
              "    }\n",
              "    (() => {\n",
              "      let quickchartButtonEl =\n",
              "        document.querySelector('#df-e7263c90-6da1-49e5-b409-ea9d62383955 button');\n",
              "      quickchartButtonEl.style.display =\n",
              "        google.colab.kernel.accessAllowed ? 'block' : 'none';\n",
              "    })();\n",
              "  </script>\n",
              "</div>\n",
              "    </div>\n",
              "  </div>\n"
            ]
          },
          "metadata": {},
          "execution_count": 3
        }
      ],
      "source": [
        "train.head()"
      ]
    },
    {
      "cell_type": "code",
      "source": [
        "train.shape"
      ],
      "metadata": {
        "colab": {
          "base_uri": "https://localhost:8080/"
        },
        "id": "qOmg0w-BtIQ4",
        "outputId": "e263091f-9301-4426-c694-59486e13df96"
      },
      "execution_count": null,
      "outputs": [
        {
          "output_type": "execute_result",
          "data": {
            "text/plain": [
              "(891, 12)"
            ]
          },
          "metadata": {},
          "execution_count": 6
        }
      ]
    },
    {
      "cell_type": "code",
      "source": [
        "train.info()"
      ],
      "metadata": {
        "colab": {
          "base_uri": "https://localhost:8080/"
        },
        "id": "KPz9lq-Ns2ak",
        "outputId": "14739ffe-7540-4281-a894-2cd1b847b76e"
      },
      "execution_count": null,
      "outputs": [
        {
          "output_type": "stream",
          "name": "stdout",
          "text": [
            "<class 'pandas.core.frame.DataFrame'>\n",
            "RangeIndex: 891 entries, 0 to 890\n",
            "Data columns (total 12 columns):\n",
            " #   Column       Non-Null Count  Dtype  \n",
            "---  ------       --------------  -----  \n",
            " 0   PassengerId  891 non-null    int64  \n",
            " 1   Survived     891 non-null    int64  \n",
            " 2   Pclass       891 non-null    int64  \n",
            " 3   Name         891 non-null    object \n",
            " 4   Sex          891 non-null    object \n",
            " 5   Age          714 non-null    float64\n",
            " 6   SibSp        891 non-null    int64  \n",
            " 7   Parch        891 non-null    int64  \n",
            " 8   Ticket       891 non-null    object \n",
            " 9   Fare         891 non-null    float64\n",
            " 10  Cabin        204 non-null    object \n",
            " 11  Embarked     889 non-null    object \n",
            "dtypes: float64(2), int64(5), object(5)\n",
            "memory usage: 83.7+ KB\n"
          ]
        }
      ]
    },
    {
      "cell_type": "markdown",
      "metadata": {
        "id": "7o7ikASvsfwm"
      },
      "source": [
        "# Exploratory Data Analysis\n",
        "\n",
        "Let's begin some exploratory data analysis! We'll start by checking out missing data!\n",
        "\n",
        "## Missing Data\n",
        "\n",
        "We can use seaborn to create a simple heatmap to see where we are missing data!"
      ]
    },
    {
      "cell_type": "code",
      "execution_count": null,
      "metadata": {
        "id": "My3LC35asfwo",
        "outputId": "3bd79a82-504f-4855-b9ac-151b06eb5bee"
      },
      "outputs": [
        {
          "data": {
            "text/plain": [
              "<matplotlib.axes._subplots.AxesSubplot at 0x11a56f7b8>"
            ]
          },
          "execution_count": 76,
          "metadata": {},
          "output_type": "execute_result"
        },
        {
          "data": {
            "image/png": "[encoded data removed]",
            "text/plain": [
              "<matplotlib.figure.Figure at 0x11af92e48>"
            ]
          },
          "metadata": {},
          "output_type": "display_data"
        }
      ],
      "source": [
        "sns.heatmap(train.isnull(),yticklabels=False,cbar=False,cmap='viridis')"
      ]
    },
    {
      "cell_type": "markdown",
      "source": [
        "The code provided appears to be using the `sns.heatmap` function from the Seaborn library in Python to create a heatmap of missing (null) values in a DataFrame called `train`. Let me explain each parameter of this function:\n",
        "\n",
        "1. `train`: This is assumed to be a Pandas DataFrame containing your data, where you want to visualize missing values.\n",
        "\n",
        "2. `.isnull()`: This is a Pandas DataFrame method that returns a DataFrame of the same shape as `train`, where each element is either `True` if the corresponding element in `train` is NaN (missing), or `False` otherwise.\n",
        "\n",
        "3. `yticklabels=False`: This parameter is used to control whether or not to display the y-axis tick labels. In this case, `yticklabels` is set to `False`, so the y-axis tick labels will not be shown.\n",
        "\n",
        "4. `cbar=False`: This parameter controls whether or not to display a color bar legend on the right side of the heatmap. Setting it to `False` means that there won't be a color bar legend.\n",
        "\n",
        "5. `cmap='viridis'`: This parameter specifies the color map to be used for the heatmap. 'viridis' is one of the predefined colormaps in Seaborn, which ranges from deep purple (low values) to bright yellow (high values).\n",
        "\n",
        "The `sns.heatmap` function will generate a heatmap where missing values are visually represented using colors (e.g., a specific color for missing values and another color for non-missing values). This can help you quickly identify patterns of missing data in your DataFrame.\n",
        "\n"
      ],
      "metadata": {
        "id": "tCAjHySJKr2l"
      }
    },
    {
      "cell_type": "markdown",
      "metadata": {
        "id": "iqvfmmBpsfwr"
      },
      "source": [
        "Roughly 20 percent of the Age data is missing. The proportion of Age missing is likely small enough for reasonable replacement with some form of imputation. Looking at the Cabin column, it looks like we are just missing too much of that data to do something useful with at a basic level. We'll probably drop this later, or change it to another feature like \"Cabin Known: 1 or 0\"\n"
      ]
    },
    {
      "cell_type": "code",
      "execution_count": null,
      "metadata": {
        "colab": {
          "base_uri": "https://localhost:8080/",
          "height": 467
        },
        "id": "FRXIIWPIsfwv",
        "outputId": "43c7dc70-4d5c-45ef-b861-dfd88bca828e"
      },
      "outputs": [
        {
          "output_type": "execute_result",
          "data": {
            "text/plain": [
              "<Axes: xlabel='Survived', ylabel='count'>"
            ]
          },
          "metadata": {},
          "execution_count": 7
        },
        {
          "output_type": "display_data",
          "data": {
            "text/plain": [
              "<Figure size 640x480 with 1 Axes>"
            ],
            "image/png": "[encoded data removed]"
          },
          "metadata": {}
        }
      ],
      "source": [
        "sns.set_style('whitegrid')\n",
        "sns.countplot(x='Survived',data=train,palette='RdBu_r')"
      ]
    },
    {
      "cell_type": "markdown",
      "source": [
        "The code provided is using Seaborn to create a countplot based on the 'Survived' column in a DataFrame named `train`. Let me explain each part of the code:\n",
        "\n",
        "1. `sns.set_style('whitegrid')`: This line sets the style of the Seaborn plots to 'whitegrid'. It affects the background and grid lines of the plot, making it easier to read and interpret the data.\n",
        "\n",
        "2. `sns.countplot(x='Survived', data=train, palette='RdBu_r')`: This line creates a countplot using Seaborn's `countplot` function. Here's what each parameter does:\n",
        "\n",
        "   - `x='Survived'`: This specifies the column in the `train` DataFrame that you want to plot on the x-axis. In this case, you are plotting the 'Survived' column, which likely contains binary data (0 or 1) indicating whether a person survived (1) or did not survive (0).\n",
        "\n",
        "   - `data=train`: This specifies the DataFrame from which the data for the plot will be drawn, which is `train` in this case.\n",
        "\n",
        "   - `palette='RdBu_r'`: This parameter specifies the color palette to be used for the plot. 'RdBu_r' is a diverging color palette, with one color for the positive values (survived) and another color for the negative values (not survived).\n",
        "\n",
        "The resulting plot will be a bar chart showing the count of individuals who survived and did not survive. It will have two bars: one for survivors and one for non-survivors, with different colors indicating the two categories.\n",
        "\n"
      ],
      "metadata": {
        "id": "P0r79-NQK6sq"
      }
    },
    {
      "cell_type": "code",
      "execution_count": null,
      "metadata": {
        "id": "IE6zvYytsfwx",
        "outputId": "b2a52fea-f6d0-486d-bb78-081e5fec7f36"
      },
      "outputs": [
        {
          "data": {
            "text/plain": [
              "<matplotlib.axes._subplots.AxesSubplot at 0x11b004a20>"
            ]
          },
          "execution_count": 78,
          "metadata": {},
          "output_type": "execute_result"
        },
        {
          "data": {
            "image/png": "[encoded data removed]",
            "text/plain": [
              "<matplotlib.figure.Figure at 0x11b118160>"
            ]
          },
          "metadata": {},
          "output_type": "display_data"
        }
      ],
      "source": [
        "sns.set_style('whitegrid')\n",
        "sns.countplot(x='Survived',hue='Sex',data=train,palette='RdBu_r')"
      ]
    },
    {
      "cell_type": "markdown",
      "source": [
        "The code provided is creating a countplot using Seaborn to visualize the distribution of survivors and non-survivors in the `train` DataFrame, with the data further categorized by gender (Sex). Let's break down the code:\n",
        "\n",
        "1. `sns.set_style('whitegrid')`: This line sets the style of the Seaborn plots to 'whitegrid', as mentioned earlier, affecting the background and grid lines of the plot.\n",
        "\n",
        "2. `sns.countplot(x='Survived', hue='Sex', data=train, palette='RdBu_r')`: This line creates a countplot with the following parameters:\n",
        "\n",
        "   - `x='Survived'`: This specifies the column on the x-axis, which is 'Survived' in this case. 'Survived' is likely a binary column, indicating whether a person survived (1) or did not survive (0).\n",
        "\n",
        "   - `hue='Sex'`: This parameter allows you to further categorize the data by gender (the 'Sex' column). It will create bars for each combination of survival status (Survived or Not Survived) and gender (Male or Female).\n",
        "\n",
        "   - `data=train`: This specifies the DataFrame from which the data for the plot will be drawn, which is `train` in this case.\n",
        "\n",
        "   - `palette='RdBu_r'`: This parameter specifies the color palette to be used for the plot. 'RdBu_r' is a diverging color palette, which is useful when you want to distinguish between two categories (survived and not survived) with different colors.\n",
        "\n",
        "The resulting countplot will display bars for each combination of survival status and gender, showing how many individuals fall into each category. You will have four bars: Survived Male, Not Survived Male, Survived Female, and Not Survived Female, each with a different color based on the palette.\n",
        "\n"
      ],
      "metadata": {
        "id": "UAiKIIUcMUgu"
      }
    },
    {
      "cell_type": "code",
      "execution_count": null,
      "metadata": {
        "id": "Il84rkdysfwy",
        "outputId": "5a1578da-9880-4654-8258-cd09e63e5746"
      },
      "outputs": [
        {
          "data": {
            "text/plain": [
              "<matplotlib.axes._subplots.AxesSubplot at 0x11b130f28>"
            ]
          },
          "execution_count": 79,
          "metadata": {},
          "output_type": "execute_result"
        },
        {
          "data": {
            "image/png": "[encoded data removed]",
            "text/plain": [
              "<matplotlib.figure.Figure at 0x11b12cef0>"
            ]
          },
          "metadata": {},
          "output_type": "display_data"
        }
      ],
      "source": [
        "sns.set_style('whitegrid')\n",
        "sns.countplot(x='Survived',hue='Pclass',data=train,palette='rainbow')"
      ]
    },
    {
      "cell_type": "markdown",
      "source": [
        "The code you've provided is creating a countplot using Seaborn to visualize the distribution of survivors and non-survivors in the `train` DataFrame, with the data further categorized by gender (Sex). Let's break down the code:\n",
        "\n",
        "1. `sns.set_style('whitegrid')`: This line sets the style of the Seaborn plots to 'whitegrid', as mentioned earlier, affecting the background and grid lines of the plot.\n",
        "\n",
        "2. `sns.countplot(x='Survived', hue='Sex', data=train, palette='RdBu_r')`: This line creates a countplot with the following parameters:\n",
        "\n",
        "   - `x='Survived'`: This specifies the column on the x-axis, which is 'Survived' in this case. 'Survived' is likely a binary column, indicating whether a person survived (1) or did not survive (0).\n",
        "\n",
        "   - `hue='Sex'`: This parameter allows you to further categorize the data by gender (the 'Sex' column). It will create bars for each combination of survival status (Survived or Not Survived) and gender (Male or Female).\n",
        "\n",
        "   - `data=train`: This specifies the DataFrame from which the data for the plot will be drawn, which is `train` in this case.\n",
        "\n",
        "   - `palette='RdBu_r'`: This parameter specifies the color palette to be used for the plot. 'RdBu_r' is a diverging color palette, which is useful when you want to distinguish between two categories (survived and not survived) with different colors.\n",
        "\n",
        "The resulting countplot will display bars for each combination of survival status and gender, showing how many individuals fall into each category. You will have four bars: Survived Male, Not Survived Male, Survived Female, and Not Survived Female, each with a different color based on the palette.\n",
        "\n"
      ],
      "metadata": {
        "id": "IO-gbFbnNztF"
      }
    },
    {
      "cell_type": "code",
      "execution_count": null,
      "metadata": {
        "colab": {
          "base_uri": "https://localhost:8080/",
          "height": 524
        },
        "id": "OgN_Monesfw0",
        "outputId": "736fd25b-4aa7-434d-c947-a4bcb3e36dc6"
      },
      "outputs": [
        {
          "output_type": "execute_result",
          "data": {
            "text/plain": [
              "<seaborn.axisgrid.FacetGrid at 0x7f9f86b1ff70>"
            ]
          },
          "metadata": {},
          "execution_count": 10
        },
        {
          "output_type": "display_data",
          "data": {
            "text/plain": [
              "<Figure size 500x500 with 1 Axes>"
            ],
            "image/png": "[encoded data removed]"
          },
          "metadata": {}
        }
      ],
      "source": [
        "sns.displot(train['Age'].dropna(),kde=True,color='darkred',bins=30)"
      ]
    },
    {
      "cell_type": "markdown",
      "source": [
        "\n",
        "1. `sns.displot`: This is the Seaborn function used to create a distribution plot.\n",
        "\n",
        "2. `train['Age'].dropna()`: This part extracts the 'Age' column from your DataFrame (`train`) and then uses `dropna()` to remove any rows with missing values in the 'Age' column. This is done to ensure that the plot only includes valid age values.\n",
        "\n",
        "3. `kde=False`: This parameter specifies that you do not want to overlay a Kernel Density Estimation (KDE) plot on top of the histogram. If you set `kde=True`, it would add a smoothed line representing the estimated probability density function.\n",
        "\n",
        "4. `color='darkred'`: This sets the color of the bars in the histogram to 'darkred'. You can change this color to any other valid color name or code.\n",
        "\n",
        "5. `bins=30`: This parameter controls the number of bins (intervals) into which the data range is divided. In this case, you've set it to 30, meaning the histogram will have 30 bars.\n",
        "\n"
      ],
      "metadata": {
        "id": "N_qsza_vyxhl"
      }
    },
    {
      "cell_type": "code",
      "execution_count": null,
      "metadata": {
        "colab": {
          "base_uri": "https://localhost:8080/",
          "height": 448
        },
        "id": "bb4Ezpuosfw2",
        "outputId": "b7679888-75a4-4b91-81f1-51952721c948"
      },
      "outputs": [
        {
          "output_type": "execute_result",
          "data": {
            "text/plain": [
              "<Axes: >"
            ]
          },
          "metadata": {},
          "execution_count": 12
        },
        {
          "output_type": "display_data",
          "data": {
            "text/plain": [
              "<Figure size 640x480 with 1 Axes>"
            ],
            "image/png": "[encoded data removed]"
          },
          "metadata": {}
        }
      ],
      "source": [
        "train['Age'].hist(bins=30,color='darkred',alpha=0.7)"
      ]
    },
    {
      "cell_type": "markdown",
      "source": [
        "The code provided is creating a histogram for the 'Age' column in the `train` DataFrame. Here's a breakdown of the code:\n",
        "\n",
        "1. `train['Age']`: This selects the 'Age' column from the `train` DataFrame, assuming that the 'Age' column contains numerical data representing the ages of individuals in your dataset.\n",
        "\n",
        "2. `.hist(bins=30, color='darkred', alpha=0.7)`: This code is calling the `hist` method on the selected 'Age' column and specifying several parameters:\n",
        "\n",
        "   - `bins=30`: This parameter specifies the number of bins (intervals) that the data will be divided into for the histogram. In this case, it's set to 30, which means you'll have 30 bars in the histogram, each representing a range of ages.\n",
        "\n",
        "   - `color='darkred'`: This parameter sets the color of the bars in the histogram to 'darkred'.\n",
        "\n",
        "   - `alpha=0.7`: This parameter controls the transparency of the bars. An alpha value of 0.7 makes the bars somewhat transparent, allowing you to see overlapping bars more clearly if they exist.\n",
        "\n",
        "The resulting plot will be a histogram showing the distribution of ages in your dataset. Each bar represents a range of ages (a bin), and the height of the bar indicates the number of individuals in that age range. The 'darkred' color and transparency (alpha) are used for visualization purposes.\n",
        "\n"
      ],
      "metadata": {
        "id": "4Rj--rpEWEiH"
      }
    },
    {
      "cell_type": "code",
      "execution_count": null,
      "metadata": {
        "id": "2-9H_4yUsfw3",
        "outputId": "55fa5f72-c80f-40ae-c3e2-35756b9925a1"
      },
      "outputs": [
        {
          "data": {
            "text/plain": [
              "<matplotlib.axes._subplots.AxesSubplot at 0x11c4139e8>"
            ]
          },
          "execution_count": 82,
          "metadata": {},
          "output_type": "execute_result"
        },
        {
          "data": {
            "image/png": "[encoded data removed]",
            "text/plain": [
              "<matplotlib.figure.Figure at 0x11c4d2080>"
            ]
          },
          "metadata": {},
          "output_type": "display_data"
        }
      ],
      "source": [
        "sns.countplot(x='SibSp',data=train)"
      ]
    },
    {
      "cell_type": "markdown",
      "source": [
        "The code provided is using Seaborn to create a countplot of the 'SibSp' column in the `train` DataFrame. Let's break down the code:\n",
        "\n",
        "1. `sns.countplot(x='SibSp', data=train)`: This line of code is creating a countplot using Seaborn's `countplot` function with the following parameters:\n",
        "\n",
        "   - `x='SibSp'`: This specifies the column on the x-axis of the plot. In this case, it's the 'SibSp' column, which likely represents the number of siblings/spouses a person has on board.\n",
        "\n",
        "   - `data=train`: This specifies the DataFrame from which the data for the plot will be drawn, which is `train` in this case.\n",
        "\n",
        "The resulting plot will be a bar chart that displays the count of individuals for each value in the 'SibSp' column. Each bar represents a specific number of siblings/spouses, and the height of the bar indicates how many individuals have that particular number of siblings/spouses.\n",
        "\n",
        "This type of plot is useful for understanding the distribution of a categorical variable, in this case, the number of siblings/spouses. You can further customize the plot by adding labels, titles, adjusting the figure size, or changing the colors as needed. If you're working in a Jupyter Notebook or a similar environment, you may want to use `plt.show()` to display the plot."
      ],
      "metadata": {
        "id": "1LqOBYsXXsv7"
      }
    },
    {
      "cell_type": "code",
      "execution_count": null,
      "metadata": {
        "id": "UZp2lLPNsfw6",
        "outputId": "3c8e485a-4eab-4201-b35b-841668f57ae1"
      },
      "outputs": [
        {
          "data": {
            "text/plain": [
              "<matplotlib.axes._subplots.AxesSubplot at 0x113893048>"
            ]
          },
          "execution_count": 83,
          "metadata": {},
          "output_type": "execute_result"
        },
        {
          "data": {
            "image/png": "[encoded data removed]",
            "text/plain": [
              "<matplotlib.figure.Figure at 0x11c6b6160>"
            ]
          },
          "metadata": {},
          "output_type": "display_data"
        }
      ],
      "source": [
        "train['Fare'].hist(color='green',bins=40,figsize=(8,4))"
      ]
    },
    {
      "cell_type": "markdown",
      "source": [
        "The code provided is creating a histogram for the 'Fare' column in the `train` DataFrame. Here's a breakdown of the code:\n",
        "\n",
        "1. `train['Fare']`: This selects the 'Fare' column from the `train` DataFrame, which likely represents the fares paid by passengers.\n",
        "\n",
        "2. `.hist(color='green', bins=40, figsize=(8, 4))`: This code is calling the `hist` method on the selected 'Fare' column and specifying several parameters:\n",
        "\n",
        "   - `color='green'`: This parameter sets the color of the bars in the histogram to 'green'.\n",
        "\n",
        "   - `bins=40`: This parameter specifies the number of bins (intervals) that the data will be divided into for the histogram. In this case, it's set to 40, which means you'll have 40 bars in the histogram, each representing a range of fare values.\n",
        "\n",
        "   - `figsize=(8, 4)`: This parameter sets the size of the figure (the width and height of the plot) to (8, 4) inches.\n",
        "\n",
        "The resulting plot will be a histogram showing the distribution of fares in your dataset. Each bar represents a range of fare values, and the height of the bar indicates the number of individuals with fares falling within that range.\n",
        "\n",
        "The 'green' color is used for the bars in the histogram. You can further customize the plot by adding labels, titles, adjusting the figure size, or changing the colors as needed. If you're working in a Jupyter Notebook or a similar environment, you can use `plt.show()` to display the plot."
      ],
      "metadata": {
        "id": "qfhd056rgGH4"
      }
    },
    {
      "cell_type": "markdown",
      "metadata": {
        "id": "bnCzjbXDsfxA"
      },
      "source": [
        "___\n",
        "## Data Cleaning\n",
        "We want to fill in missing age data instead of just dropping the missing age data rows. One way to do this is by filling in the mean age of all the passengers (imputation).\n",
        "However we can be smarter about this and check the average age by passenger class. For example:\n"
      ]
    },
    {
      "cell_type": "code",
      "execution_count": null,
      "metadata": {
        "id": "V_BR0vj3sfxC",
        "outputId": "b04d9565-d09e-4f4c-cdc6-c82921d3b071"
      },
      "outputs": [
        {
          "data": {
            "text/plain": [
              "<matplotlib.axes._subplots.AxesSubplot at 0x11c901cc0>"
            ]
          },
          "execution_count": 86,
          "metadata": {},
          "output_type": "execute_result"
        },
        {
          "data": {
            "image/png": "[encoded data removed]",
            "text/plain": [
              "<matplotlib.figure.Figure at 0x11c9bd9e8>"
            ]
          },
          "metadata": {},
          "output_type": "display_data"
        }
      ],
      "source": [
        "plt.figure(figsize=(12, 7))\n",
        "sns.boxplot(x='Pclass',y='Age',data=train,palette='winter')"
      ]
    },
    {
      "cell_type": "markdown",
      "source": [
        "The code provided is creating a boxplot using Seaborn to visualize the distribution of ages ('Age') across different passenger classes ('Pclass') in the `train` DataFrame. Here's a breakdown of the code:\n",
        "\n",
        "1. `plt.figure(figsize=(12, 7))`: This line sets the figure size for the plot to (12, 7) inches. It's specifying the width and height of the figure.\n",
        "\n",
        "2. `sns.boxplot(x='Pclass', y='Age', data=train, palette='winter')`: This line creates a boxplot using Seaborn's `boxplot` function with the following parameters:\n",
        "\n",
        "   - `x='Pclass'`: This specifies the column on the x-axis, which is 'Pclass' in this case. 'Pclass' typically represents the passenger class (1st, 2nd, or 3rd class).\n",
        "\n",
        "   - `y='Age'`: This specifies the column on the y-axis, which is 'Age' in this case. 'Age' represents the age of passengers.\n",
        "\n",
        "   - `data=train`: This specifies the DataFrame from which the data for the plot will be drawn, which is `train` in this case.\n",
        "\n",
        "   - `palette='winter'`: This parameter specifies the color palette to be used for the plot. 'winter' is one of Seaborn's predefined color palettes.\n",
        "\n",
        "The resulting plot will be a boxplot that shows the distribution of ages within each passenger class. Each box represents a passenger class, with the box's height indicating the interquartile range (IQR) of ages in that class. The line inside the box represents the median age, and any points beyond the \"whiskers\" (the lines extending from the boxes) may be considered outliers.\n",
        "\n",
        "This type of plot is useful for comparing the distribution of a continuous variable (age) across different categories (passenger classes) and identifying any potential differences or outliers.\n",
        "\n"
      ],
      "metadata": {
        "id": "lqwgIjCEhQD7"
      }
    },
    {
      "cell_type": "markdown",
      "metadata": {
        "id": "_3X77b71sfxD"
      },
      "source": [
        "We can see the wealthier passengers in the higher classes tend to be older, which makes sense. We'll use these average age values to impute based on Pclass for Age."
      ]
    },
    {
      "cell_type": "code",
      "execution_count": null,
      "metadata": {
        "id": "4gOyCzXZsfxE"
      },
      "outputs": [],
      "source": [
        "def impute_age(cols):\n",
        "    Age = cols[0]\n",
        "    Pclass = cols[1]\n",
        "\n",
        "    if pd.isnull(Age):\n",
        "        # If the 'Age' value is missing (null):\n",
        "\n",
        "        if Pclass == 1:\n",
        "            return 37  # Impute the age as 37 for passengers in 1st class.\n",
        "\n",
        "        elif Pclass == 2:\n",
        "            return 29  # Impute the age as 29 for passengers in 2nd class.\n",
        "\n",
        "        else:\n",
        "            return 24  # Impute the age as 24 for passengers in 3rd class.\n",
        "\n",
        "    else:\n",
        "        # If the 'Age' value is not missing, return the original age value.\n",
        "        return Age\n"
      ]
    },
    {
      "cell_type": "markdown",
      "source": [
        "Here's how this function works:\n",
        "\n",
        "- It takes a single argument `cols`, which is expected to be a tuple or list containing two elements: 'Age' and 'Pclass'.\n",
        "\n",
        "- Inside the function, it extracts the 'Age' and 'Pclass' values from the `cols` tuple or list.\n",
        "\n",
        "- It checks whether the 'Age' value is missing (null) using `pd.isnull(Age)`. If the age is missing, it imputes (fills in) an age value based on the passenger class:\n",
        "  - If the passenger is in 1st class (Pclass == 1), it imputes the age as 37.\n",
        "  - If the passenger is in 2nd class (Pclass == 2), it imputes the age as 29.\n",
        "  - If the passenger is in 3rd class (Pclass == 3), it imputes the age as 24.\n",
        "\n",
        "- If the 'Age' value is not missing, it simply returns the original age value.\n",
        "\n",
        "This function can be used with the Pandas `apply` method to impute missing ages in a DataFrame by applying this function to each row where 'Age' is missing, using the corresponding 'Pclass' value to determine the imputed age."
      ],
      "metadata": {
        "id": "D8a9i7KTiy74"
      }
    },
    {
      "cell_type": "markdown",
      "metadata": {
        "id": "-XZCvUu7sfxF"
      },
      "source": [
        "Now apply that function!"
      ]
    },
    {
      "cell_type": "code",
      "execution_count": null,
      "metadata": {
        "id": "Z9gaq_6OsfxG"
      },
      "outputs": [],
      "source": [
        "train['Age'] = train[['Age','Pclass']].apply(impute_age,axis=1)"
      ]
    },
    {
      "cell_type": "markdown",
      "source": [
        "The code provided is using the Pandas `apply` method to impute missing values in the 'Age' column of the `train` DataFrame based on the 'Pclass' column using the `impute_age` function you defined earlier. Here's an explanation of what this code does:\n",
        "\n",
        "- `train[['Age', 'Pclass']]` creates a new DataFrame containing only the 'Age' and 'Pclass' columns from the original `train` DataFrame. This new DataFrame has two columns: 'Age' and 'Pclass'.\n",
        "\n",
        "- `.apply(impute_age, axis=1)` applies the `impute_age` function to each row in the new DataFrame along `axis=1`, meaning it applies the function to each row (as opposed to applying it column-wise).\n",
        "\n",
        "  - For each row, it passes a tuple `(Age, Pclass)` to the `impute_age` function, where `Age` is the 'Age' value from that row, and `Pclass` is the 'Pclass' value from that row.\n",
        "\n",
        "  - The `impute_age` function, as defined earlier, checks whether 'Age' is missing (null) and imputes an age based on the passenger class ('Pclass') if 'Age' is missing, or returns the original 'Age' if it's not missing.\n",
        "\n",
        "  - The result of this operation is a new 'Age' column in the `train` DataFrame, where missing 'Age' values have been imputed based on the corresponding 'Pclass' values.\n",
        "\n",
        "This code effectively fills in missing age values in the 'Age' column of the `train` DataFrame using the logic you defined in the `impute_age` function."
      ],
      "metadata": {
        "id": "kdZhUBpsjyMt"
      }
    },
    {
      "cell_type": "markdown",
      "metadata": {
        "id": "l5EBb8fwsfxH"
      },
      "source": [
        "Now let's check that heat map again!"
      ]
    },
    {
      "cell_type": "code",
      "execution_count": null,
      "metadata": {
        "id": "clQpiqvqsfxI",
        "outputId": "7ba1d4a0-758b-45bb-de51-bee8d2a9e05c"
      },
      "outputs": [
        {
          "data": {
            "text/plain": [
              "<matplotlib.axes._subplots.AxesSubplot at 0x11c4dae10>"
            ]
          },
          "execution_count": 89,
          "metadata": {},
          "output_type": "execute_result"
        },
        {
          "data": {
            "image/png": "[encoded data removed]",
            "text/plain": [
              "<matplotlib.figure.Figure at 0x11b12c9e8>"
            ]
          },
          "metadata": {},
          "output_type": "display_data"
        }
      ],
      "source": [
        "sns.heatmap(train.isnull(),yticklabels=False,cbar=False,cmap='viridis')"
      ]
    },
    {
      "cell_type": "markdown",
      "metadata": {
        "id": "mEQuk-zGsfxJ"
      },
      "source": [
        "Great! Let's go ahead and drop the Cabin column and the row in Embarked that is NaN."
      ]
    },
    {
      "cell_type": "code",
      "execution_count": null,
      "metadata": {
        "id": "3CfWI032sfxK"
      },
      "outputs": [],
      "source": [
        "train.drop('Cabin',axis=1,inplace=True)"
      ]
    },
    {
      "cell_type": "code",
      "execution_count": null,
      "metadata": {
        "id": "FUp61pTusfxL",
        "outputId": "f0f2f11a-e71a-49e7-a8d9-7b3e2f7b6834"
      },
      "outputs": [
        {
          "data": {
            "text/html": [
              "<div>\n",
              "<table border=\"1\" class=\"dataframe\">\n",
              "  <thead>\n",
              "    <tr style=\"text-align: right;\">\n",
              "      <th></th>\n",
              "      <th>PassengerId</th>\n",
              "      <th>Survived</th>\n",
              "      <th>Pclass</th>\n",
              "      <th>Name</th>\n",
              "      <th>Sex</th>\n",
              "      <th>Age</th>\n",
              "      <th>SibSp</th>\n",
              "      <th>Parch</th>\n",
              "      <th>Ticket</th>\n",
              "      <th>Fare</th>\n",
              "      <th>Embarked</th>\n",
              "    </tr>\n",
              "  </thead>\n",
              "  <tbody>\n",
              "    <tr>\n",
              "      <th>0</th>\n",
              "      <td>1</td>\n",
              "      <td>0</td>\n",
              "      <td>3</td>\n",
              "      <td>Braund, Mr. Owen Harris</td>\n",
              "      <td>male</td>\n",
              "      <td>22.0</td>\n",
              "      <td>1</td>\n",
              "      <td>0</td>\n",
              "      <td>A/5 21171</td>\n",
              "      <td>7.2500</td>\n",
              "      <td>S</td>\n",
              "    </tr>\n",
              "    <tr>\n",
              "      <th>1</th>\n",
              "      <td>2</td>\n",
              "      <td>1</td>\n",
              "      <td>1</td>\n",
              "      <td>Cumings, Mrs. John Bradley (Florence Briggs Th...</td>\n",
              "      <td>female</td>\n",
              "      <td>38.0</td>\n",
              "      <td>1</td>\n",
              "      <td>0</td>\n",
              "      <td>PC 17599</td>\n",
              "      <td>71.2833</td>\n",
              "      <td>C</td>\n",
              "    </tr>\n",
              "    <tr>\n",
              "      <th>2</th>\n",
              "      <td>3</td>\n",
              "      <td>1</td>\n",
              "      <td>3</td>\n",
              "      <td>Heikkinen, Miss. Laina</td>\n",
              "      <td>female</td>\n",
              "      <td>26.0</td>\n",
              "      <td>0</td>\n",
              "      <td>0</td>\n",
              "      <td>STON/O2. 3101282</td>\n",
              "      <td>7.9250</td>\n",
              "      <td>S</td>\n",
              "    </tr>\n",
              "    <tr>\n",
              "      <th>3</th>\n",
              "      <td>4</td>\n",
              "      <td>1</td>\n",
              "      <td>1</td>\n",
              "      <td>Futrelle, Mrs. Jacques Heath (Lily May Peel)</td>\n",
              "      <td>female</td>\n",
              "      <td>35.0</td>\n",
              "      <td>1</td>\n",
              "      <td>0</td>\n",
              "      <td>113803</td>\n",
              "      <td>53.1000</td>\n",
              "      <td>S</td>\n",
              "    </tr>\n",
              "    <tr>\n",
              "      <th>4</th>\n",
              "      <td>5</td>\n",
              "      <td>0</td>\n",
              "      <td>3</td>\n",
              "      <td>Allen, Mr. William Henry</td>\n",
              "      <td>male</td>\n",
              "      <td>35.0</td>\n",
              "      <td>0</td>\n",
              "      <td>0</td>\n",
              "      <td>373450</td>\n",
              "      <td>8.0500</td>\n",
              "      <td>S</td>\n",
              "    </tr>\n",
              "  </tbody>\n",
              "</table>\n",
              "</div>"
            ],
            "text/plain": [
              "   PassengerId  Survived  Pclass  \\\n",
              "0            1         0       3   \n",
              "1            2         1       1   \n",
              "2            3         1       3   \n",
              "3            4         1       1   \n",
              "4            5         0       3   \n",
              "\n",
              "                                                Name     Sex   Age  SibSp  \\\n",
              "0                            Braund, Mr. Owen Harris    male  22.0      1   \n",
              "1  Cumings, Mrs. John Bradley (Florence Briggs Th...  female  38.0      1   \n",
              "2                             Heikkinen, Miss. Laina  female  26.0      0   \n",
              "3       Futrelle, Mrs. Jacques Heath (Lily May Peel)  female  35.0      1   \n",
              "4                           Allen, Mr. William Henry    male  35.0      0   \n",
              "\n",
              "   Parch            Ticket     Fare Embarked  \n",
              "0      0         A/5 21171   7.2500        S  \n",
              "1      0          PC 17599  71.2833        C  \n",
              "2      0  STON/O2. 3101282   7.9250        S  \n",
              "3      0            113803  53.1000        S  \n",
              "4      0            373450   8.0500        S  "
            ]
          },
          "execution_count": 91,
          "metadata": {},
          "output_type": "execute_result"
        }
      ],
      "source": [
        "train.head()"
      ]
    },
    {
      "cell_type": "code",
      "execution_count": null,
      "metadata": {
        "id": "Z1J8h1utsfxN"
      },
      "outputs": [],
      "source": [
        "train.dropna(inplace=True)"
      ]
    },
    {
      "cell_type": "markdown",
      "metadata": {
        "id": "DojSx67_sfxN"
      },
      "source": [
        "## Converting Categorical Features\n",
        "\n",
        "We'll need to convert categorical features to dummy variables using pandas! Otherwise our machine learning algorithm won't be able to directly take in those features as inputs."
      ]
    },
    {
      "cell_type": "code",
      "execution_count": null,
      "metadata": {
        "id": "0ypeXZ_6sfxO",
        "outputId": "93c018af-869b-47c8-cea5-17fabf5241e1"
      },
      "outputs": [
        {
          "name": "stdout",
          "output_type": "stream",
          "text": [
            "<class 'pandas.core.frame.DataFrame'>\n",
            "Int64Index: 889 entries, 0 to 890\n",
            "Data columns (total 11 columns):\n",
            "PassengerId    889 non-null int64\n",
            "Survived       889 non-null int64\n",
            "Pclass         889 non-null int64\n",
            "Name           889 non-null object\n",
            "Sex            889 non-null object\n",
            "Age            889 non-null float64\n",
            "SibSp          889 non-null int64\n",
            "Parch          889 non-null int64\n",
            "Ticket         889 non-null object\n",
            "Fare           889 non-null float64\n",
            "Embarked       889 non-null object\n",
            "dtypes: float64(2), int64(5), object(4)\n",
            "memory usage: 83.3+ KB\n"
          ]
        }
      ],
      "source": [
        "train.info()"
      ]
    },
    {
      "cell_type": "code",
      "execution_count": null,
      "metadata": {
        "id": "nJeqjmq1sfxP"
      },
      "outputs": [],
      "source": [
        "sex = pd.get_dummies(train['Sex'],drop_first=True)\n",
        "embark = pd.get_dummies(train['Embarked'],drop_first=True)"
      ]
    },
    {
      "cell_type": "code",
      "execution_count": null,
      "metadata": {
        "id": "mmPQU6dUsfxQ"
      },
      "outputs": [],
      "source": [
        "train.drop(['Sex','Embarked','Name','Ticket'],axis=1,inplace=True)"
      ]
    },
    {
      "cell_type": "code",
      "execution_count": null,
      "metadata": {
        "collapsed": true,
        "id": "QKlR7yVgsfxR"
      },
      "outputs": [],
      "source": [
        "train = pd.concat([train,sex,embark],axis=1)"
      ]
    },
    {
      "cell_type": "code",
      "execution_count": null,
      "metadata": {
        "id": "TJO1YmT_sfxR",
        "outputId": "9f945095-ab34-469b-a33b-63ee9e93d2d3"
      },
      "outputs": [
        {
          "data": {
            "text/html": [
              "<div>\n",
              "<table border=\"1\" class=\"dataframe\">\n",
              "  <thead>\n",
              "    <tr style=\"text-align: right;\">\n",
              "      <th></th>\n",
              "      <th>PassengerId</th>\n",
              "      <th>Survived</th>\n",
              "      <th>Pclass</th>\n",
              "      <th>Age</th>\n",
              "      <th>SibSp</th>\n",
              "      <th>Parch</th>\n",
              "      <th>Fare</th>\n",
              "      <th>male</th>\n",
              "      <th>Q</th>\n",
              "      <th>S</th>\n",
              "    </tr>\n",
              "  </thead>\n",
              "  <tbody>\n",
              "    <tr>\n",
              "      <th>0</th>\n",
              "      <td>1</td>\n",
              "      <td>0</td>\n",
              "      <td>3</td>\n",
              "      <td>22.0</td>\n",
              "      <td>1</td>\n",
              "      <td>0</td>\n",
              "      <td>7.2500</td>\n",
              "      <td>1.0</td>\n",
              "      <td>0.0</td>\n",
              "      <td>1.0</td>\n",
              "    </tr>\n",
              "    <tr>\n",
              "      <th>1</th>\n",
              "      <td>2</td>\n",
              "      <td>1</td>\n",
              "      <td>1</td>\n",
              "      <td>38.0</td>\n",
              "      <td>1</td>\n",
              "      <td>0</td>\n",
              "      <td>71.2833</td>\n",
              "      <td>0.0</td>\n",
              "      <td>0.0</td>\n",
              "      <td>0.0</td>\n",
              "    </tr>\n",
              "    <tr>\n",
              "      <th>2</th>\n",
              "      <td>3</td>\n",
              "      <td>1</td>\n",
              "      <td>3</td>\n",
              "      <td>26.0</td>\n",
              "      <td>0</td>\n",
              "      <td>0</td>\n",
              "      <td>7.9250</td>\n",
              "      <td>0.0</td>\n",
              "      <td>0.0</td>\n",
              "      <td>1.0</td>\n",
              "    </tr>\n",
              "    <tr>\n",
              "      <th>3</th>\n",
              "      <td>4</td>\n",
              "      <td>1</td>\n",
              "      <td>1</td>\n",
              "      <td>35.0</td>\n",
              "      <td>1</td>\n",
              "      <td>0</td>\n",
              "      <td>53.1000</td>\n",
              "      <td>0.0</td>\n",
              "      <td>0.0</td>\n",
              "      <td>1.0</td>\n",
              "    </tr>\n",
              "    <tr>\n",
              "      <th>4</th>\n",
              "      <td>5</td>\n",
              "      <td>0</td>\n",
              "      <td>3</td>\n",
              "      <td>35.0</td>\n",
              "      <td>0</td>\n",
              "      <td>0</td>\n",
              "      <td>8.0500</td>\n",
              "      <td>1.0</td>\n",
              "      <td>0.0</td>\n",
              "      <td>1.0</td>\n",
              "    </tr>\n",
              "  </tbody>\n",
              "</table>\n",
              "</div>"
            ],
            "text/plain": [
              "   PassengerId  Survived  Pclass   Age  SibSp  Parch     Fare  male    Q    S\n",
              "0            1         0       3  22.0      1      0   7.2500   1.0  0.0  1.0\n",
              "1            2         1       1  38.0      1      0  71.2833   0.0  0.0  0.0\n",
              "2            3         1       3  26.0      0      0   7.9250   0.0  0.0  1.0\n",
              "3            4         1       1  35.0      1      0  53.1000   0.0  0.0  1.0\n",
              "4            5         0       3  35.0      0      0   8.0500   1.0  0.0  1.0"
            ]
          },
          "execution_count": 97,
          "metadata": {},
          "output_type": "execute_result"
        }
      ],
      "source": [
        "train.head()"
      ]
    },
    {
      "cell_type": "markdown",
      "metadata": {
        "id": "gwrLzLy7sfxS"
      },
      "source": [
        "Great! Our data is ready for our model!\n",
        "\n",
        "# Building a Logistic Regression model\n",
        "\n",
        "Let's start by splitting our data into a training set and test set (there is another test.csv file that you can play around with in case you want to use all this data for training).\n",
        "\n",
        "## Train Test Split"
      ]
    },
    {
      "cell_type": "code",
      "execution_count": null,
      "metadata": {
        "collapsed": true,
        "id": "-dotwQv4sfxU"
      },
      "outputs": [],
      "source": [
        "from sklearn.model_selection import train_test_split"
      ]
    },
    {
      "cell_type": "code",
      "execution_count": null,
      "metadata": {
        "id": "lOCLyJWdsfxV"
      },
      "outputs": [],
      "source": [
        "X_train, X_test, y_train, y_test = train_test_split(train.drop('Survived',axis=1),\n",
        "                                                    train['Survived'], test_size=0.30,\n",
        "                                                    random_state=101)"
      ]
    },
    {
      "cell_type": "markdown",
      "metadata": {
        "id": "enfHWPa6sfxo"
      },
      "source": [
        "## Training and Predicting"
      ]
    },
    {
      "cell_type": "code",
      "execution_count": null,
      "metadata": {
        "collapsed": true,
        "id": "Cu-x86TXsfxp"
      },
      "outputs": [],
      "source": [
        "from sklearn.linear_model import LogisticRegression"
      ]
    },
    {
      "cell_type": "code",
      "execution_count": null,
      "metadata": {
        "id": "2cpEDYwzsfxq",
        "outputId": "d172943d-6e78-4302-9ee2-ea501665f016"
      },
      "outputs": [
        {
          "data": {
            "text/plain": [
              "LogisticRegression(C=1.0, class_weight=None, dual=False, fit_intercept=True,\n",
              "          intercept_scaling=1, max_iter=100, multi_class='ovr', n_jobs=1,\n",
              "          penalty='l2', random_state=None, solver='liblinear', tol=0.0001,\n",
              "          verbose=0, warm_start=False)"
            ]
          },
          "execution_count": 102,
          "metadata": {},
          "output_type": "execute_result"
        }
      ],
      "source": [
        "logmodel = LogisticRegression()\n",
        "logmodel.fit(X_train,y_train)"
      ]
    },
    {
      "cell_type": "code",
      "execution_count": null,
      "metadata": {
        "collapsed": true,
        "id": "Ir6MpCtssfxs"
      },
      "outputs": [],
      "source": [
        "predictions = logmodel.predict(X_test)"
      ]
    },
    {
      "cell_type": "markdown",
      "metadata": {
        "id": "4I3foqxBsfxv"
      },
      "source": [
        "Let's move on to evaluate our model!"
      ]
    },
    {
      "cell_type": "markdown",
      "metadata": {
        "id": "1G5Ww1KOsfxw"
      },
      "source": [
        "## Evaluation"
      ]
    },
    {
      "cell_type": "markdown",
      "metadata": {
        "id": "tas0JkNlsfxx"
      },
      "source": [
        "We can check precision,recall,f1-score using classification report!"
      ]
    },
    {
      "cell_type": "code",
      "execution_count": null,
      "metadata": {
        "collapsed": true,
        "id": "UaogXgB3sfxy"
      },
      "outputs": [],
      "source": [
        "from sklearn.metrics import classification_report"
      ]
    },
    {
      "cell_type": "code",
      "execution_count": null,
      "metadata": {
        "id": "ZTGNXdsBsfx0",
        "outputId": "df73db33-b028-48ca-c0f4-a4e20bcbc181"
      },
      "outputs": [
        {
          "name": "stdout",
          "output_type": "stream",
          "text": [
            "             precision    recall  f1-score   support\n",
            "\n",
            "          0       0.81      0.93      0.86       163\n",
            "          1       0.85      0.65      0.74       104\n",
            "\n",
            "avg / total       0.82      0.82      0.81       267\n",
            "\n"
          ]
        }
      ],
      "source": [
        "print(classification_report(y_test,predictions))"
      ]
    },
    {
      "cell_type": "markdown",
      "metadata": {
        "id": "UjhpwYxesfx2"
      },
      "source": [
        "Not so bad! You might want to explore other feature engineering and the other titanic_text.csv file, some suggestions for feature engineering:\n",
        "\n",
        "* Try grabbing the Title (Dr.,Mr.,Mrs,etc..) from the name as a feature\n",
        "* Maybe the Cabin letter could be a feature\n",
        "* Is there any info you can get from the ticket?\n",
        "\n",
        "## Great Job!"
      ]
    }
  ],
  "metadata": {
    "kernelspec": {
      "display_name": "Python 3",
      "language": "python",
      "name": "python3"
    },
    "language_info": {
      "codemirror_mode": {
        "name": "ipython",
        "version": 3
      },
      "file_extension": ".py",
      "mimetype": "text/x-python",
      "name": "python",
      "nbconvert_exporter": "python",
      "pygments_lexer": "ipython3",
      "version": "3.5.1"
    },
    "colab": {
      "provenance": [],
      "include_colab_link": true
    }
  },
  "nbformat": 4,
  "nbformat_minor": 0
}
