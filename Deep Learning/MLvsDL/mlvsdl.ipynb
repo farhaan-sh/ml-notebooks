{
 "cells": [
  {
   "cell_type": "markdown",
   "metadata": {},
   "source": [
    "The primary distinction between deep learning and traditional machine learning lies in the complexity and architecture of the models used. Deep learning models, specifically neural networks, are a subset of machine learning models that involve multiple layers of interconnected nodes. "
   ]
  },
  {
   "cell_type": "markdown",
   "metadata": {},
   "source": [
    "\n",
    "### Machine Learning (Logistic Regression):\n"
   ]
  },
  {
   "cell_type": "code",
   "execution_count": 1,
   "metadata": {},
   "outputs": [
    {
     "name": "stdout",
     "output_type": "stream",
     "text": [
      "Accuracy: 1.0000\n"
     ]
    },
    {
     "name": "stderr",
     "output_type": "stream",
     "text": [
      "c:\\Users\\Lenovo\\AppData\\Local\\Programs\\Python\\Python311\\Lib\\site-packages\\sklearn\\linear_model\\_logistic.py:460: ConvergenceWarning: lbfgs failed to converge (status=1):\n",
      "STOP: TOTAL NO. of ITERATIONS REACHED LIMIT.\n",
      "\n",
      "Increase the number of iterations (max_iter) or scale the data as shown in:\n",
      "    https://scikit-learn.org/stable/modules/preprocessing.html\n",
      "Please also refer to the documentation for alternative solver options:\n",
      "    https://scikit-learn.org/stable/modules/linear_model.html#logistic-regression\n",
      "  n_iter_i = _check_optimize_result(\n"
     ]
    }
   ],
   "source": [
    "# Import necessary libraries\n",
    "from sklearn.model_selection import train_test_split\n",
    "from sklearn.linear_model import LogisticRegression\n",
    "from sklearn.metrics import accuracy_score\n",
    "\n",
    "# Load dataset (e.g., Iris dataset)\n",
    "from sklearn.datasets import load_iris\n",
    "data = load_iris()\n",
    "X, y = data.data, data.target\n",
    "\n",
    "# Split the data into training and testing sets\n",
    "X_train, X_test, y_train, y_test = train_test_split(X, y, test_size=0.2, random_state=42)\n",
    "\n",
    "# Create and train a logistic regression model\n",
    "logistic_model = LogisticRegression()\n",
    "logistic_model.fit(X_train, y_train)\n",
    "\n",
    "# Make predictions on the test set\n",
    "y_pred = logistic_model.predict(X_test)\n",
    "\n",
    "# Evaluate the model\n",
    "accuracy = accuracy_score(y_test, y_pred)\n",
    "print(f\"Accuracy: {accuracy:.4f}\")"
   ]
  },
  {
   "cell_type": "markdown",
   "metadata": {},
   "source": [
    "### Deep Learning (Feedforward Neural Network):\n"
   ]
  },
  {
   "cell_type": "code",
   "execution_count": 2,
   "metadata": {},
   "outputs": [
    {
     "name": "stdout",
     "output_type": "stream",
     "text": [
      "WARNING:tensorflow:From c:\\Users\\Lenovo\\AppData\\Local\\Programs\\Python\\Python311\\Lib\\site-packages\\keras\\src\\losses.py:2976: The name tf.losses.sparse_softmax_cross_entropy is deprecated. Please use tf.compat.v1.losses.sparse_softmax_cross_entropy instead.\n",
      "\n",
      "WARNING:tensorflow:From c:\\Users\\Lenovo\\AppData\\Local\\Programs\\Python\\Python311\\Lib\\site-packages\\keras\\src\\backend.py:873: The name tf.get_default_graph is deprecated. Please use tf.compat.v1.get_default_graph instead.\n",
      "\n",
      "WARNING:tensorflow:From c:\\Users\\Lenovo\\AppData\\Local\\Programs\\Python\\Python311\\Lib\\site-packages\\keras\\src\\optimizers\\__init__.py:309: The name tf.train.Optimizer is deprecated. Please use tf.compat.v1.train.Optimizer instead.\n",
      "\n",
      "Epoch 1/50\n",
      "WARNING:tensorflow:From c:\\Users\\Lenovo\\AppData\\Local\\Programs\\Python\\Python311\\Lib\\site-packages\\keras\\src\\utils\\tf_utils.py:492: The name tf.ragged.RaggedTensorValue is deprecated. Please use tf.compat.v1.ragged.RaggedTensorValue instead.\n",
      "\n",
      "WARNING:tensorflow:From c:\\Users\\Lenovo\\AppData\\Local\\Programs\\Python\\Python311\\Lib\\site-packages\\keras\\src\\engine\\base_layer_utils.py:384: The name tf.executing_eagerly_outside_functions is deprecated. Please use tf.compat.v1.executing_eagerly_outside_functions instead.\n",
      "\n",
      "3/3 [==============================] - 1s 167ms/step - loss: 1.5885 - accuracy: 0.3542 - val_loss: 1.9358 - val_accuracy: 0.2917\n",
      "Epoch 2/50\n",
      "3/3 [==============================] - 0s 32ms/step - loss: 1.4508 - accuracy: 0.3542 - val_loss: 1.7596 - val_accuracy: 0.2917\n",
      "Epoch 3/50\n",
      "3/3 [==============================] - 0s 40ms/step - loss: 1.3359 - accuracy: 0.3542 - val_loss: 1.6078 - val_accuracy: 0.2917\n",
      "Epoch 4/50\n",
      "3/3 [==============================] - 0s 37ms/step - loss: 1.2479 - accuracy: 0.3542 - val_loss: 1.4757 - val_accuracy: 0.2917\n",
      "Epoch 5/50\n",
      "3/3 [==============================] - 0s 33ms/step - loss: 1.1646 - accuracy: 0.3750 - val_loss: 1.3624 - val_accuracy: 0.4167\n",
      "Epoch 6/50\n",
      "3/3 [==============================] - 0s 35ms/step - loss: 1.0998 - accuracy: 0.6562 - val_loss: 1.2601 - val_accuracy: 0.5000\n",
      "Epoch 7/50\n",
      "3/3 [==============================] - 0s 41ms/step - loss: 1.0468 - accuracy: 0.7188 - val_loss: 1.1672 - val_accuracy: 0.5000\n",
      "Epoch 8/50\n",
      "3/3 [==============================] - 0s 36ms/step - loss: 0.9948 - accuracy: 0.7188 - val_loss: 1.0887 - val_accuracy: 0.5000\n",
      "Epoch 9/50\n",
      "3/3 [==============================] - 0s 37ms/step - loss: 0.9563 - accuracy: 0.7188 - val_loss: 1.0210 - val_accuracy: 0.5000\n",
      "Epoch 10/50\n",
      "3/3 [==============================] - 0s 34ms/step - loss: 0.9223 - accuracy: 0.7083 - val_loss: 0.9655 - val_accuracy: 0.5000\n",
      "Epoch 11/50\n",
      "3/3 [==============================] - 0s 34ms/step - loss: 0.8887 - accuracy: 0.6771 - val_loss: 0.9225 - val_accuracy: 0.2917\n",
      "Epoch 12/50\n",
      "3/3 [==============================] - 0s 30ms/step - loss: 0.8633 - accuracy: 0.4896 - val_loss: 0.8878 - val_accuracy: 0.2083\n",
      "Epoch 13/50\n",
      "3/3 [==============================] - 0s 29ms/step - loss: 0.8389 - accuracy: 0.5000 - val_loss: 0.8609 - val_accuracy: 0.3750\n",
      "Epoch 14/50\n",
      "3/3 [==============================] - 0s 28ms/step - loss: 0.8169 - accuracy: 0.5000 - val_loss: 0.8397 - val_accuracy: 0.4583\n",
      "Epoch 15/50\n",
      "3/3 [==============================] - 0s 39ms/step - loss: 0.7956 - accuracy: 0.5104 - val_loss: 0.8248 - val_accuracy: 0.3750\n",
      "Epoch 16/50\n",
      "3/3 [==============================] - 0s 34ms/step - loss: 0.7760 - accuracy: 0.4896 - val_loss: 0.8144 - val_accuracy: 0.2917\n",
      "Epoch 17/50\n",
      "3/3 [==============================] - 0s 101ms/step - loss: 0.7551 - accuracy: 0.5000 - val_loss: 0.8020 - val_accuracy: 0.3750\n",
      "Epoch 18/50\n",
      "3/3 [==============================] - 0s 44ms/step - loss: 0.7350 - accuracy: 0.6042 - val_loss: 0.7869 - val_accuracy: 0.4583\n",
      "Epoch 19/50\n",
      "3/3 [==============================] - 0s 38ms/step - loss: 0.7154 - accuracy: 0.6667 - val_loss: 0.7747 - val_accuracy: 0.5000\n",
      "Epoch 20/50\n",
      "3/3 [==============================] - 0s 40ms/step - loss: 0.6982 - accuracy: 0.7083 - val_loss: 0.7662 - val_accuracy: 0.5000\n",
      "Epoch 21/50\n",
      "3/3 [==============================] - 0s 30ms/step - loss: 0.6833 - accuracy: 0.7188 - val_loss: 0.7597 - val_accuracy: 0.5000\n",
      "Epoch 22/50\n",
      "3/3 [==============================] - 0s 29ms/step - loss: 0.6707 - accuracy: 0.7188 - val_loss: 0.7493 - val_accuracy: 0.5000\n",
      "Epoch 23/50\n",
      "3/3 [==============================] - 0s 29ms/step - loss: 0.6578 - accuracy: 0.7188 - val_loss: 0.7362 - val_accuracy: 0.5000\n",
      "Epoch 24/50\n",
      "3/3 [==============================] - 0s 29ms/step - loss: 0.6449 - accuracy: 0.7188 - val_loss: 0.7208 - val_accuracy: 0.5000\n",
      "Epoch 25/50\n",
      "3/3 [==============================] - 0s 29ms/step - loss: 0.6322 - accuracy: 0.7188 - val_loss: 0.7059 - val_accuracy: 0.5000\n",
      "Epoch 26/50\n",
      "3/3 [==============================] - 0s 29ms/step - loss: 0.6186 - accuracy: 0.7396 - val_loss: 0.6861 - val_accuracy: 0.6250\n",
      "Epoch 27/50\n",
      "3/3 [==============================] - 0s 29ms/step - loss: 0.6035 - accuracy: 0.7604 - val_loss: 0.6702 - val_accuracy: 0.6667\n",
      "Epoch 28/50\n",
      "3/3 [==============================] - 0s 30ms/step - loss: 0.5904 - accuracy: 0.7917 - val_loss: 0.6567 - val_accuracy: 0.7500\n",
      "Epoch 29/50\n",
      "3/3 [==============================] - 0s 29ms/step - loss: 0.5800 - accuracy: 0.8125 - val_loss: 0.6499 - val_accuracy: 0.6667\n",
      "Epoch 30/50\n",
      "3/3 [==============================] - 0s 30ms/step - loss: 0.5721 - accuracy: 0.8021 - val_loss: 0.6348 - val_accuracy: 0.7500\n",
      "Epoch 31/50\n",
      "3/3 [==============================] - 0s 29ms/step - loss: 0.5633 - accuracy: 0.8333 - val_loss: 0.6224 - val_accuracy: 0.8750\n",
      "Epoch 32/50\n",
      "3/3 [==============================] - 0s 27ms/step - loss: 0.5543 - accuracy: 0.8646 - val_loss: 0.6183 - val_accuracy: 0.7917\n",
      "Epoch 33/50\n",
      "3/3 [==============================] - 0s 29ms/step - loss: 0.5472 - accuracy: 0.8542 - val_loss: 0.6132 - val_accuracy: 0.7917\n",
      "Epoch 34/50\n",
      "3/3 [==============================] - 0s 31ms/step - loss: 0.5399 - accuracy: 0.8542 - val_loss: 0.6066 - val_accuracy: 0.7917\n",
      "Epoch 35/50\n",
      "3/3 [==============================] - 0s 28ms/step - loss: 0.5333 - accuracy: 0.8646 - val_loss: 0.5998 - val_accuracy: 0.8333\n",
      "Epoch 36/50\n",
      "3/3 [==============================] - 0s 29ms/step - loss: 0.5273 - accuracy: 0.8750 - val_loss: 0.5932 - val_accuracy: 0.8750\n",
      "Epoch 37/50\n",
      "3/3 [==============================] - 0s 29ms/step - loss: 0.5218 - accuracy: 0.8750 - val_loss: 0.5863 - val_accuracy: 0.8750\n",
      "Epoch 38/50\n",
      "3/3 [==============================] - 0s 28ms/step - loss: 0.5159 - accuracy: 0.9062 - val_loss: 0.5811 - val_accuracy: 0.8750\n",
      "Epoch 39/50\n",
      "3/3 [==============================] - 0s 30ms/step - loss: 0.5106 - accuracy: 0.9062 - val_loss: 0.5766 - val_accuracy: 0.8750\n",
      "Epoch 40/50\n",
      "3/3 [==============================] - 0s 35ms/step - loss: 0.5055 - accuracy: 0.8958 - val_loss: 0.5731 - val_accuracy: 0.8750\n",
      "Epoch 41/50\n",
      "3/3 [==============================] - 0s 29ms/step - loss: 0.5014 - accuracy: 0.9062 - val_loss: 0.5639 - val_accuracy: 0.8750\n",
      "Epoch 42/50\n",
      "3/3 [==============================] - 0s 28ms/step - loss: 0.4953 - accuracy: 0.9167 - val_loss: 0.5594 - val_accuracy: 0.8750\n",
      "Epoch 43/50\n",
      "3/3 [==============================] - 0s 64ms/step - loss: 0.4905 - accuracy: 0.9167 - val_loss: 0.5551 - val_accuracy: 0.8750\n",
      "Epoch 44/50\n",
      "3/3 [==============================] - 0s 32ms/step - loss: 0.4865 - accuracy: 0.9167 - val_loss: 0.5487 - val_accuracy: 0.8750\n",
      "Epoch 45/50\n",
      "3/3 [==============================] - 0s 29ms/step - loss: 0.4814 - accuracy: 0.9375 - val_loss: 0.5449 - val_accuracy: 0.9167\n",
      "Epoch 46/50\n",
      "3/3 [==============================] - 0s 28ms/step - loss: 0.4774 - accuracy: 0.9167 - val_loss: 0.5439 - val_accuracy: 0.8750\n",
      "Epoch 47/50\n",
      "3/3 [==============================] - 0s 29ms/step - loss: 0.4729 - accuracy: 0.9062 - val_loss: 0.5413 - val_accuracy: 0.8750\n",
      "Epoch 48/50\n",
      "3/3 [==============================] - 0s 36ms/step - loss: 0.4687 - accuracy: 0.9167 - val_loss: 0.5346 - val_accuracy: 0.8750\n",
      "Epoch 49/50\n",
      "3/3 [==============================] - 0s 31ms/step - loss: 0.4651 - accuracy: 0.9167 - val_loss: 0.5332 - val_accuracy: 0.8750\n",
      "Epoch 50/50\n",
      "3/3 [==============================] - 0s 37ms/step - loss: 0.4606 - accuracy: 0.9167 - val_loss: 0.5263 - val_accuracy: 0.9167\n",
      "1/1 [==============================] - 0s 41ms/step - loss: 0.4715 - accuracy: 0.9667\n",
      "Accuracy: 0.9667\n"
     ]
    }
   ],
   "source": [
    "# Import necessary libraries\n",
    "import tensorflow as tf\n",
    "from tensorflow.keras.models import Sequential\n",
    "from tensorflow.keras.layers import Dense\n",
    "from sklearn.model_selection import train_test_split\n",
    "from sklearn.metrics import accuracy_score\n",
    "\n",
    "# Load dataset (e.g., Iris dataset)\n",
    "data = load_iris()\n",
    "X, y = data.data, data.target\n",
    "\n",
    "# Split the data into training and testing sets\n",
    "X_train, X_test, y_train, y_test = train_test_split(X, y, test_size=0.2, random_state=42)\n",
    "\n",
    "# Create a simple feedforward neural network\n",
    "model = Sequential()\n",
    "model.add(Dense(units=64, activation='relu', input_dim=4))\n",
    "model.add(Dense(units=3, activation='softmax'))\n",
    "\n",
    "# Compile the model\n",
    "model.compile(optimizer='adam', loss='sparse_categorical_crossentropy', metrics=['accuracy'])\n",
    "\n",
    "# Train the model\n",
    "model.fit(X_train, y_train, epochs=50, batch_size=32, validation_split=0.2)\n",
    "\n",
    "# Evaluate the model on the test set\n",
    "_, accuracy = model.evaluate(X_test, y_test)\n",
    "print(f\"Accuracy: {accuracy:.4f}\")"
   ]
  },
  {
   "cell_type": "markdown",
   "metadata": {},
   "source": [
    "\n",
    "\n",
    "```\n",
    "\n",
    "In this comparison, the machine learning example uses logistic regression, a traditional algorithm, while the deep learning example employs a feedforward neural network, a fundamental architecture in deep learning. The deep learning model is implemented using TensorFlow/Keras, showcasing the fundamental differences in the code structure and complexity."
   ]
  },
  {
   "cell_type": "code",
   "execution_count": null,
   "metadata": {},
   "outputs": [],
   "source": []
  }
 ],
 "metadata": {
  "kernelspec": {
   "display_name": "Python 3",
   "language": "python",
   "name": "python3"
  },
  "language_info": {
   "codemirror_mode": {
    "name": "ipython",
    "version": 3
   },
   "file_extension": ".py",
   "mimetype": "text/x-python",
   "name": "python",
   "nbconvert_exporter": "python",
   "pygments_lexer": "ipython3",
   "version": "3.11.5"
  }
 },
 "nbformat": 4,
 "nbformat_minor": 2
}
