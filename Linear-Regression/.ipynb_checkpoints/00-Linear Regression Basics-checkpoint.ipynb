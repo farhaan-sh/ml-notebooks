{
 "cells": [
  {
   "cell_type": "markdown",
   "id": "e336cdba-887a-4d82-bdd7-f8bb675dfc0d",
   "metadata": {},
   "source": [
    "\n",
    "1. **Linear Regression Model**:\n",
    "   - **Mathematical Notation**: \n",
    "     - Simple Linear Regression: \\(y = \\beta_0 + \\beta_1x\\)\n",
    "\n",
    "       ![SLR](https://quicklatex.com/cache3/a4/ql_634883c5680aaae62b818dc9a777daa4_l3.png)\n",
    "     \r",
    " \n",
    "     - Multiple Linear Regression: \\(y = \\beta_0 + \\beta_1x_1 + \\beta_2x_2 + \\ldots + \\beta_px_p\n",
    "       \n",
    "       ![MLR](https://quicklatex.com/cache3/50/ql_8e530b7c373e26f68780caa9ad6eaf50_l3.png)\n",
    "\n",
    "\r",
    "  - **Explanation**: A linear equation that represents the relationship between the dependent variable (\\(y\\)) and one or more independent variables (\\(x_1, x_2, \\ldots, x_p\\)). The \\(\\beta\\) coefficients represent the parameters to be estimated.\n",
    "\n",
    "2. **Dependent Variable (DV)**:\n",
    "   - **Example**: In a housing price prediction model, the price of a house is the dependent variable.\n",
    "   - **Explanation**: The variable we are trying to predict or explain using the independent variables.\n",
    "\n",
    "3. **Independent Variable (IV)**:\n",
    "   - **Example**: In the same housing price prediction model, the number of bedrooms, square footage, and location of the house are independent variables.\n",
    "   - **Explanation**: The variables that are used to predict or explain the variation in the dependent variable.\n",
    "\n",
    "4. **Coefficients (\\(\\beta_0, \\beta_1, \\beta_2, \\ldots, \\beta_p\\))**:\n",
    "   - **Mathematical Notation**: These are the coefficients in the linear regression equation.\n",
    "   - **Explanation**: They represent the strength and direction of the relationship between each independent variable and the dependent variable. \\(\\beta_0\\) is the intercept.\n",
    "\n",
    "5. **Residuals**:\n",
    "   - **Mathematical Notation**: \\(e_i = y_i - \\hat{y}_i\\)\n",
    "   - **Explanation**: The difference between the actual observed values (\\(y_i\\)) and the predicted values (\\(\\hat{y}_i\\)) for each data point. Residuals measure the model's errors.\n",
    "\n",
    "6. **Ordinary Least Squares (OLS)**:\n",
    "   - **Explanation**: A method used to estimate the coefficients in the linear regression model by minimizing the sum of squared residuals. It finds the best-fitting line through the data.\n",
    "\n",
    "7. **R-squared (\\(R^2\\))**:\n",
    "   - **Mathematical Notation**: \\(R^2 = \\frac{{\\text{Explained Variance}}}{{\\text{Total Variance}}}\\)\n",
    "   - **Explanation**: A measure of how well the independent variables explain the variation in the dependent variable. It ranges from 0 to 1, where higher values indicate a better fit.\n",
    "\n",
    "8. **Assumptions of Linear Regression**:\n",
    "   - Linearity: The relationship between variables is linear.\n",
    "   - Independence: Residuals are independent of each other.\n",
    "   - Homoscedasticity: Residuals have constant variance.\n",
    "   - Normality: Residuals are normally distributed.\n",
    "\n",
    "9. **Multicollinearity**:\n",
    "   - **Explanation**: Occurs when independent variables in a multiple regression model are highly correlated with each other, which can make it difficult to determine their individual effects on the dependent variable.\n",
    "\n",
    "10. **Heteroscedasticity**:\n",
    "    - **Explanation**: The presence of non-constant variance in the residuals. It violates one of the assumptions of linear regression.\n",
    "\n",
    "11. **Outliers**:\n",
    "    - **Explanation**: Data points that significantly deviate from the overall pattern and may have a disproportionate impact on the regression model.\n",
    "\n",
    "12. **Feature Scaling**:\n",
    "    - **Explanation**: The process of standardizing or normalizing independent variables to have similar scales, which can help improve the performance of linear regression.\n",
    "\n",
    "13. **Overfitting and Underfitting**:\n",
    "    - **Explanation**: Overfitting occurs when the model is too complex and fits noise in the data. Underfitting occurs when the model is too simple and cannot capture the underlying patterns.\n",
    "\n",
    "14. **Cross-Validation**:\n",
    "    - **Explanation**: A technique used to assess the model's performance by splitting the data into training antion and understanding relationships between variables."
   ]
  },
  {
   "cell_type": "code",
   "execution_count": 1,
   "id": "fcdd1b41-b3f2-4422-b947-ad1a09df0811",
   "metadata": {},
   "outputs": [],
   "source": [
    "# Import necessary libraries\n",
    "import numpy as np\n",
    "import matplotlib.pyplot as plt\n",
    "from sklearn.model_selection import train_test_split\n",
    "from sklearn.linear_model import LinearRegression\n",
    "from sklearn.metrics import mean_squared_error, r2_score\n"
   ]
  },
  {
   "cell_type": "code",
   "execution_count": 22,
   "id": "18b3a2cd-8c76-4d17-ac45-0603ee5cabd3",
   "metadata": {},
   "outputs": [],
   "source": [
    "\n",
    "# Generate some example data\n",
    "np.random.seed(50)\n",
    "X = 2 * np.random.rand(100, 1)  # Independent variable (feature)\n",
    "y = 4 + 3 * X + np.random.randn(100, 1)  # Dependent variable (target) with some noise\n"
   ]
  },
  {
   "cell_type": "code",
   "execution_count": 23,
   "id": "299b9444-2298-4ae2-aa88-2acc8d643034",
   "metadata": {},
   "outputs": [
    {
     "data": {
      "text/plain": [
       "(array([[0.98920329],\n",
       "        [0.45616621],\n",
       "        [0.51094785],\n",
       "        [0.79265982],\n",
       "        [0.7546302 ],\n",
       "        [1.99314846],\n",
       "        [0.8163944 ],\n",
       "        [1.54378799],\n",
       "        [1.52107338],\n",
       "        [0.6200187 ],\n",
       "        [0.69308241],\n",
       "        [0.70352963],\n",
       "        [0.29093371],\n",
       "        [1.94532937],\n",
       "        [1.81835688],\n",
       "        [1.11991421],\n",
       "        [0.62718149],\n",
       "        [1.77640008],\n",
       "        [1.34914613],\n",
       "        [0.7821749 ],\n",
       "        [1.01436825],\n",
       "        [1.04820701],\n",
       "        [1.85600186],\n",
       "        [1.14274614],\n",
       "        [1.33667514],\n",
       "        [0.10451738],\n",
       "        [0.65411461],\n",
       "        [0.11280328],\n",
       "        [0.35965539],\n",
       "        [1.85186635],\n",
       "        [1.87603045],\n",
       "        [1.42818541],\n",
       "        [1.46537522],\n",
       "        [0.92349535],\n",
       "        [1.86265854],\n",
       "        [0.81284049],\n",
       "        [1.36641154],\n",
       "        [1.29983174],\n",
       "        [1.19753036],\n",
       "        [0.44407878],\n",
       "        [1.36471434],\n",
       "        [1.75611261],\n",
       "        [1.59343453],\n",
       "        [0.8640045 ],\n",
       "        [1.83575644],\n",
       "        [1.56366736],\n",
       "        [1.45150056],\n",
       "        [0.24970939],\n",
       "        [1.8326169 ],\n",
       "        [0.77542199],\n",
       "        [0.58985909],\n",
       "        [1.23346283],\n",
       "        [0.93569246],\n",
       "        [0.51067783],\n",
       "        [1.67799178],\n",
       "        [0.3572384 ],\n",
       "        [0.45422834],\n",
       "        [1.31975289],\n",
       "        [0.95823249],\n",
       "        [0.14689468],\n",
       "        [0.27792014],\n",
       "        [0.22461437],\n",
       "        [0.95556993],\n",
       "        [1.08059246],\n",
       "        [1.9161421 ],\n",
       "        [1.16758462],\n",
       "        [1.05332818],\n",
       "        [1.84452538],\n",
       "        [1.83851403],\n",
       "        [0.50401773],\n",
       "        [1.36526522],\n",
       "        [1.92855224],\n",
       "        [0.45392329],\n",
       "        [1.4320344 ],\n",
       "        [1.59552021],\n",
       "        [1.8735024 ],\n",
       "        [1.70744499],\n",
       "        [0.84309161],\n",
       "        [0.01087974],\n",
       "        [0.06973066],\n",
       "        [0.02781073],\n",
       "        [1.17781986],\n",
       "        [0.76598619],\n",
       "        [0.2296379 ],\n",
       "        [1.72890802],\n",
       "        [1.64331406],\n",
       "        [1.47498337],\n",
       "        [1.68068834],\n",
       "        [0.80305821],\n",
       "        [1.49724   ],\n",
       "        [1.11925889],\n",
       "        [1.22647515],\n",
       "        [0.5962033 ],\n",
       "        [1.20475835],\n",
       "        [0.85135368],\n",
       "        [1.07708877],\n",
       "        [0.97345971],\n",
       "        [0.99978328],\n",
       "        [1.83491897],\n",
       "        [0.52575404]]),\n",
       " array([[ 6.91505909],\n",
       "        [ 4.73421754],\n",
       "        [ 5.16991244],\n",
       "        [ 3.8070597 ],\n",
       "        [ 6.40140533],\n",
       "        [ 9.26014919],\n",
       "        [ 7.17770609],\n",
       "        [10.25310945],\n",
       "        [10.08488238],\n",
       "        [ 4.55328266],\n",
       "        [ 5.18947893],\n",
       "        [ 6.11585665],\n",
       "        [ 5.73922601],\n",
       "        [ 9.30045253],\n",
       "        [ 9.19692171],\n",
       "        [ 7.40689878],\n",
       "        [ 5.45447933],\n",
       "        [ 9.20796726],\n",
       "        [ 7.87886385],\n",
       "        [ 6.15062575],\n",
       "        [ 6.84976163],\n",
       "        [ 7.44125112],\n",
       "        [ 8.80776014],\n",
       "        [ 4.98352263],\n",
       "        [ 7.47948811],\n",
       "        [ 5.15589775],\n",
       "        [ 5.79755778],\n",
       "        [ 3.05430811],\n",
       "        [ 5.27913765],\n",
       "        [10.40410811],\n",
       "        [ 7.91824591],\n",
       "        [ 6.70088717],\n",
       "        [ 7.29563591],\n",
       "        [ 5.61322852],\n",
       "        [11.39602047],\n",
       "        [ 5.32734285],\n",
       "        [ 8.96964997],\n",
       "        [ 8.64846804],\n",
       "        [ 8.30212364],\n",
       "        [ 5.64838578],\n",
       "        [ 7.31592877],\n",
       "        [ 8.73237622],\n",
       "        [ 7.60647136],\n",
       "        [ 5.65721728],\n",
       "        [ 8.40722967],\n",
       "        [ 8.66300825],\n",
       "        [ 7.71387959],\n",
       "        [ 5.1733588 ],\n",
       "        [10.66071347],\n",
       "        [ 8.79063823],\n",
       "        [ 5.63292795],\n",
       "        [ 6.12443561],\n",
       "        [ 8.18980501],\n",
       "        [ 5.3727295 ],\n",
       "        [ 9.81793477],\n",
       "        [ 3.85564791],\n",
       "        [ 4.83680275],\n",
       "        [ 8.12122823],\n",
       "        [ 5.95132991],\n",
       "        [ 5.70341713],\n",
       "        [ 6.46876526],\n",
       "        [ 5.0060564 ],\n",
       "        [ 6.31013126],\n",
       "        [ 6.52402426],\n",
       "        [ 9.42229989],\n",
       "        [ 7.11946441],\n",
       "        [ 6.44719997],\n",
       "        [10.1940232 ],\n",
       "        [ 8.67089816],\n",
       "        [ 5.43525462],\n",
       "        [ 9.61558547],\n",
       "        [ 8.90874452],\n",
       "        [ 5.36336162],\n",
       "        [ 7.74056206],\n",
       "        [ 9.11799961],\n",
       "        [ 9.07289725],\n",
       "        [ 7.24494342],\n",
       "        [ 5.84370976],\n",
       "        [ 3.19894501],\n",
       "        [ 5.09434156],\n",
       "        [ 3.85767421],\n",
       "        [ 7.5266491 ],\n",
       "        [ 6.307853  ],\n",
       "        [ 4.61656455],\n",
       "        [ 7.92297147],\n",
       "        [ 7.44270447],\n",
       "        [ 7.00078976],\n",
       "        [ 8.03603062],\n",
       "        [ 4.81262511],\n",
       "        [ 8.64715268],\n",
       "        [ 9.93726483],\n",
       "        [ 7.24986872],\n",
       "        [ 2.98763746],\n",
       "        [ 7.63349462],\n",
       "        [ 5.26291587],\n",
       "        [ 7.97617162],\n",
       "        [ 6.96851473],\n",
       "        [ 5.61121106],\n",
       "        [10.23033037],\n",
       "        [ 5.3696857 ]]))"
      ]
     },
     "execution_count": 23,
     "metadata": {},
     "output_type": "execute_result"
    }
   ],
   "source": [
    "(X,y)"
   ]
  },
  {
   "cell_type": "code",
   "execution_count": 24,
   "id": "e67d0363-e4af-41e1-93f0-4991b001dafe",
   "metadata": {},
   "outputs": [],
   "source": [
    "\n",
    "# Split the data into training and testing sets\n",
    "X_train, X_test, y_train, y_test = train_test_split(X, y, test_size=0.2, random_state=42)\n",
    "\n"
   ]
  },
  {
   "cell_type": "code",
   "execution_count": 27,
   "id": "3c194198-4249-4ed1-a3b3-fb10dccab449",
   "metadata": {},
   "outputs": [
    {
     "data": {
      "text/plain": [
       "array([[0.2296379 ],\n",
       "       [0.51067783],\n",
       "       [1.36526522],\n",
       "       [1.56366736],\n",
       "       [1.83575644],\n",
       "       [0.44407878],\n",
       "       [1.85600186],\n",
       "       [0.02781073],\n",
       "       [0.69308241],\n",
       "       [0.98920329],\n",
       "       [1.34914613],\n",
       "       [1.87603045],\n",
       "       [1.4320344 ],\n",
       "       [0.92349535],\n",
       "       [1.11925889],\n",
       "       [0.7546302 ],\n",
       "       [1.70744499],\n",
       "       [0.84309161],\n",
       "       [0.29093371],\n",
       "       [1.42818541]])"
      ]
     },
     "execution_count": 27,
     "metadata": {},
     "output_type": "execute_result"
    }
   ],
   "source": []
  },
  {
   "cell_type": "code",
   "execution_count": 5,
   "id": "195d3c42-9bca-4105-990b-eb1a74b03899",
   "metadata": {},
   "outputs": [],
   "source": [
    "# Create a Linear Regression model\n",
    "model = LinearRegression()\n",
    "\n"
   ]
  },
  {
   "cell_type": "code",
   "execution_count": 28,
   "id": "c4606774-9e74-483b-992a-83558000eafc",
   "metadata": {},
   "outputs": [
    {
     "data": {
      "text/html": [
       "<style>#sk-container-id-2 {color: black;}#sk-container-id-2 pre{padding: 0;}#sk-container-id-2 div.sk-toggleable {background-color: white;}#sk-container-id-2 label.sk-toggleable__label {cursor: pointer;display: block;width: 100%;margin-bottom: 0;padding: 0.3em;box-sizing: border-box;text-align: center;}#sk-container-id-2 label.sk-toggleable__label-arrow:before {content: \"▸\";float: left;margin-right: 0.25em;color: #696969;}#sk-container-id-2 label.sk-toggleable__label-arrow:hover:before {color: black;}#sk-container-id-2 div.sk-estimator:hover label.sk-toggleable__label-arrow:before {color: black;}#sk-container-id-2 div.sk-toggleable__content {max-height: 0;max-width: 0;overflow: hidden;text-align: left;background-color: #f0f8ff;}#sk-container-id-2 div.sk-toggleable__content pre {margin: 0.2em;color: black;border-radius: 0.25em;background-color: #f0f8ff;}#sk-container-id-2 input.sk-toggleable__control:checked~div.sk-toggleable__content {max-height: 200px;max-width: 100%;overflow: auto;}#sk-container-id-2 input.sk-toggleable__control:checked~label.sk-toggleable__label-arrow:before {content: \"▾\";}#sk-container-id-2 div.sk-estimator input.sk-toggleable__control:checked~label.sk-toggleable__label {background-color: #d4ebff;}#sk-container-id-2 div.sk-label input.sk-toggleable__control:checked~label.sk-toggleable__label {background-color: #d4ebff;}#sk-container-id-2 input.sk-hidden--visually {border: 0;clip: rect(1px 1px 1px 1px);clip: rect(1px, 1px, 1px, 1px);height: 1px;margin: -1px;overflow: hidden;padding: 0;position: absolute;width: 1px;}#sk-container-id-2 div.sk-estimator {font-family: monospace;background-color: #f0f8ff;border: 1px dotted black;border-radius: 0.25em;box-sizing: border-box;margin-bottom: 0.5em;}#sk-container-id-2 div.sk-estimator:hover {background-color: #d4ebff;}#sk-container-id-2 div.sk-parallel-item::after {content: \"\";width: 100%;border-bottom: 1px solid gray;flex-grow: 1;}#sk-container-id-2 div.sk-label:hover label.sk-toggleable__label {background-color: #d4ebff;}#sk-container-id-2 div.sk-serial::before {content: \"\";position: absolute;border-left: 1px solid gray;box-sizing: border-box;top: 0;bottom: 0;left: 50%;z-index: 0;}#sk-container-id-2 div.sk-serial {display: flex;flex-direction: column;align-items: center;background-color: white;padding-right: 0.2em;padding-left: 0.2em;position: relative;}#sk-container-id-2 div.sk-item {position: relative;z-index: 1;}#sk-container-id-2 div.sk-parallel {display: flex;align-items: stretch;justify-content: center;background-color: white;position: relative;}#sk-container-id-2 div.sk-item::before, #sk-container-id-2 div.sk-parallel-item::before {content: \"\";position: absolute;border-left: 1px solid gray;box-sizing: border-box;top: 0;bottom: 0;left: 50%;z-index: -1;}#sk-container-id-2 div.sk-parallel-item {display: flex;flex-direction: column;z-index: 1;position: relative;background-color: white;}#sk-container-id-2 div.sk-parallel-item:first-child::after {align-self: flex-end;width: 50%;}#sk-container-id-2 div.sk-parallel-item:last-child::after {align-self: flex-start;width: 50%;}#sk-container-id-2 div.sk-parallel-item:only-child::after {width: 0;}#sk-container-id-2 div.sk-dashed-wrapped {border: 1px dashed gray;margin: 0 0.4em 0.5em 0.4em;box-sizing: border-box;padding-bottom: 0.4em;background-color: white;}#sk-container-id-2 div.sk-label label {font-family: monospace;font-weight: bold;display: inline-block;line-height: 1.2em;}#sk-container-id-2 div.sk-label-container {text-align: center;}#sk-container-id-2 div.sk-container {/* jupyter's `normalize.less` sets `[hidden] { display: none; }` but bootstrap.min.css set `[hidden] { display: none !important; }` so we also need the `!important` here to be able to override the default hidden behavior on the sphinx rendered scikit-learn.org. See: https://github.com/scikit-learn/scikit-learn/issues/21755 */display: inline-block !important;position: relative;}#sk-container-id-2 div.sk-text-repr-fallback {display: none;}</style><div id=\"sk-container-id-2\" class=\"sk-top-container\"><div class=\"sk-text-repr-fallback\"><pre>LinearRegression()</pre><b>In a Jupyter environment, please rerun this cell to show the HTML representation or trust the notebook. <br />On GitHub, the HTML representation is unable to render, please try loading this page with nbviewer.org.</b></div><div class=\"sk-container\" hidden><div class=\"sk-item\"><div class=\"sk-estimator sk-toggleable\"><input class=\"sk-toggleable__control sk-hidden--visually\" id=\"sk-estimator-id-2\" type=\"checkbox\" checked><label for=\"sk-estimator-id-2\" class=\"sk-toggleable__label sk-toggleable__label-arrow\">LinearRegression</label><div class=\"sk-toggleable__content\"><pre>LinearRegression()</pre></div></div></div></div></div>"
      ],
      "text/plain": [
       "LinearRegression()"
      ]
     },
     "execution_count": 28,
     "metadata": {},
     "output_type": "execute_result"
    }
   ],
   "source": [
    "# Train the model on the training data\n",
    "model.fit(X_train, y_train)\n",
    "\n"
   ]
  },
  {
   "cell_type": "code",
   "execution_count": 29,
   "id": "726dc7ba-fc58-4fc1-a978-09a3b7d601e5",
   "metadata": {},
   "outputs": [],
   "source": [
    "# Make predictions on the test data\n",
    "y_pred = model.predict(X_test)"
   ]
  },
  {
   "cell_type": "code",
   "execution_count": 32,
   "id": "e9b06d8b-89ae-44f5-9ed0-b4f78b700b7d",
   "metadata": {},
   "outputs": [
    {
     "data": {
      "text/plain": [
       "(1.1157524709234083, 0.5878343231380476)"
      ]
     },
     "execution_count": 32,
     "metadata": {},
     "output_type": "execute_result"
    }
   ],
   "source": [
    "\n",
    "\n",
    "# Calculate model performance metrics\n",
    "mse = mean_squared_error(y_test, y_pred)  # Mean Squared Error\n",
    "r2 = r2_score(y_test, y_pred)  # R-squared\n",
    "\n",
    "mse, r2"
   ]
  },
  {
   "cell_type": "code",
   "execution_count": 33,
   "id": "1bc604b6-6f73-4d31-a08b-92aaba7c6c7d",
   "metadata": {},
   "outputs": [
    {
     "name": "stdout",
     "output_type": "stream",
     "text": [
      "Linear Regression Coefficients:\n",
      "Intercept (b0): 3.750253412208682\n",
      "Slope (b1): 3.025723544530168\n",
      "\n",
      "Model Performance Metrics:\n",
      "Mean Squared Error (MSE): 1.1157524709234083\n",
      "R-squared (R^2): 0.5878343231380476\n"
     ]
    }
   ],
   "source": [
    "# Print model coefficients and performance metrics\n",
    "print(\"Linear Regression Coefficients:\")\n",
    "print(\"Intercept (b0):\", model.intercept_[0])\n",
    "print(\"Slope (b1):\", model.coef_[0][0])\n",
    "print(\"\\nModel Performance Metrics:\")\n",
    "print(\"Mean Squared Error (MSE):\", mse)\n",
    "print(\"R-squared (R^2):\", r2)\n",
    "\n"
   ]
  },
  {
   "cell_type": "code",
   "execution_count": 34,
   "id": "4e42d94b-369b-4370-92a1-8fbd2f571713",
   "metadata": {},
   "outputs": [
    {
     "data": {
      "image/png": "[encoded data removed]",
      "text/plain": [
       "<Figure size 640x480 with 1 Axes>"
      ]
     },
     "metadata": {},
     "output_type": "display_data"
    }
   ],
   "source": [
    "# Plot the training data, test data, and the regression line\n",
    "plt.scatter(X_train, y_train, label=\"Training Data\", color='b')\n",
    "plt.scatter(X_test, y_test, label=\"Test Data\", color='g')\n",
    "plt.plot(X_test, y_pred, label=\"Regression Line\", color='r')\n",
    "plt.xlabel(\"Independent Variable (X)\")\n",
    "plt.ylabel(\"Dependent Variable (y)\")\n",
    "plt.title(\"Linear Regression Example\")\n",
    "plt.legend()\n",
    "plt.show()"
   ]
  },
  {
   "cell_type": "markdown",
   "id": "3fea1660-fc31-4384-8e24-e1042e52fa25",
   "metadata": {},
   "source": [
    "Explanation of the code:\n",
    "\n",
    "1. We import the necessary libraries, including NumPy for numerical operations, Matplotlib for plotting, and scikit-learn for machine learning tools.\n",
    "\n",
    "2. We generate example data, `X` and `y`, where `X` represents the independent variable, and `y` represents the dependent variable. This data simulates a linear relationship with some random noise.\n",
    "\n",
    "3. We split the data into training and testing sets using `train_test_split`. This helps us evaluate the model's performance on unseen data.\n",
    "\n",
    "4. We create a Linear Regression model using `LinearRegression()` from scikit-learn.\n",
    "\n",
    "5. We train the model on the training data using `model.fit()`.\n",
    "\n",
    "6. We make predictions on the test data using `model.predict()`.\n",
    "\n",
    "7. We calculate two performance metrics: Mean Squared Error (MSE) and R-squared (R^2).\n",
    "\n",
    "8. We print the model's coefficients (intercept and slope) and the performance metrics.\n",
    "\n",
    "9. Finally, we plot the training data, test data, and the regression line to visualize the linear regression model's fit to the data.\n",
    "\n"
   ]
  }
 ],
 "metadata": {
  "kernelspec": {
   "display_name": "Python 3 (ipykernel)",
   "language": "python",
   "name": "python3"
  },
  "language_info": {
   "codemirror_mode": {
    "name": "ipython",
    "version": 3
   },
   "file_extension": ".py",
   "mimetype": "text/x-python",
   "name": "python",
   "nbconvert_exporter": "python",
   "pygments_lexer": "ipython3",
   "version": "3.11.4"
  }
 },
 "nbformat": 4,
 "nbformat_minor": 5
}
